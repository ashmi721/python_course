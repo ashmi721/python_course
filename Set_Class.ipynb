{
  "cells": [
    {
      "cell_type": "markdown",
      "metadata": {
        "id": "GmOMmhkZvVoe"
      },
      "source": [
        "## Set\n",
        "- A set is a collection, which is unordered, Unchangeable, and Duplicates are not allowed.\n",
        "  - `Unordered:`\n",
        "    - It means that the items in a set do not have defined order. Concepts of Indexing is not used.\n",
        "  - `Unchangeable:`\n",
        "    - Once set is created, you cannot change the items, but you can remove items and add new items i.e. **sets are mutable**.\n",
        "  - Unidexed:\n",
        "    - `Duplicates are not allowed:`\n",
        "      - Sets cannot have two items with same value.\n",
        "      - _`True and 1 are considered as same in set`_\n",
        "\n",
        "- Sets are written with curly **{}** brackets. Python will automatically remove duplicates.\n",
        "  - _`True and 1 are considered as same in set`_\n",
        "  - _`False and 0 are considered as same in set`_\n",
        "\n",
        "- We only work with simple sets. There is no concepts of nested sets in python.\n",
        "  - We can achieve nested sets like concepts using frozenset (which is out of scope of this class).\n",
        "  - Example: `simple_set = {'item1', True, False}`\n",
        "\n",
        "- In this lecture we'll cover:\n",
        "  - Creating Sets\n",
        "  - Sets methods / Operations\n",
        "  - Sets are mutable\n",
        "  - Loop Sets\n",
        "  - Set Comprehension"
      ]
    },
    {
      "cell_type": "markdown",
      "metadata": {
        "id": "JsEiswP-BAQX"
      },
      "source": [
        "## 1. Creating Sets\n",
        "- To create a Set, type the set items within curly brackets **{ }**, separated by commas.\n",
        "- Example: {\"item1\", 2, 'item3', 4}"
      ]
    },
    {
      "cell_type": "code",
      "execution_count": 19,
      "metadata": {
        "colab": {
          "base_uri": "https://localhost:8080/"
        },
        "id": "Sje6eyg_Cvt_",
        "outputId": "51474f00-ab53-4c60-9b72-f020c0606b75"
      },
      "outputs": [],
      "source": [
        "# create empty set\n",
        "# use: set()\n",
        "\n",
        "empt_set = set()\n"
      ]
    },
    {
      "cell_type": "code",
      "execution_count": 20,
      "metadata": {
        "colab": {
          "base_uri": "https://localhost:8080/"
        },
        "id": "MN64vCIgC13R",
        "outputId": "57d36d69-6996-46ff-877d-0f908e1f5101"
      },
      "outputs": [
        {
          "name": "stdout",
          "output_type": "stream",
          "text": [
            "<class 'set'>\n"
          ]
        }
      ],
      "source": [
        "# display type\n",
        "print(type(empt_set))\n"
      ]
    },
    {
      "cell_type": "code",
      "execution_count": 21,
      "metadata": {
        "colab": {
          "base_uri": "https://localhost:8080/"
        },
        "id": "uF5arSxwuyfm",
        "outputId": "84683fee-ed5e-4b41-9fc8-de24741f6550"
      },
      "outputs": [
        {
          "name": "stdout",
          "output_type": "stream",
          "text": [
            "{True, 10, 'item1', 'item3'}\n"
          ]
        }
      ],
      "source": [
        "# create simple set with mixed data types\n",
        "simple_set = {'item1', 10, 'item3', True}\n",
        "print(simple_set)"
      ]
    },
    {
      "cell_type": "code",
      "execution_count": 22,
      "metadata": {
        "colab": {
          "base_uri": "https://localhost:8080/"
        },
        "id": "YMTKLBcpAH0W",
        "outputId": "230ed513-43cc-4def-ec6c-d1103d78e8c6"
      },
      "outputs": [
        {
          "name": "stdout",
          "output_type": "stream",
          "text": [
            "<class 'set'>\n"
          ]
        }
      ],
      "source": [
        "# display type\n",
        "print(type(simple_set))"
      ]
    },
    {
      "cell_type": "code",
      "execution_count": 23,
      "metadata": {
        "colab": {
          "base_uri": "https://localhost:8080/"
        },
        "id": "7hL7GQ86AJSM",
        "outputId": "db9c374d-11a3-485f-8f3c-e785bd02dd2a"
      },
      "outputs": [
        {
          "data": {
            "text/plain": [
              "4"
            ]
          },
          "execution_count": 23,
          "metadata": {},
          "output_type": "execute_result"
        }
      ],
      "source": [
        "# display length of set\n",
        "# Hint: len(set)\n",
        "\n",
        "len(simple_set)"
      ]
    },
    {
      "cell_type": "markdown",
      "metadata": {
        "id": "pO1khB5yA8DC"
      },
      "source": [
        "`Since Sets are unordered, there is no concepts of Set Indexing and Slicing`"
      ]
    },
    {
      "cell_type": "markdown",
      "metadata": {
        "id": "ktwR3hLrCkJ-"
      },
      "source": [
        "## 2. Sets Methods/Operations.\n",
        "- Most common set methods/operations are:\n",
        "  - `add(): ` Method to add a new element to a set.\n",
        "  - `remove():` Method to remove item from a set.\n",
        "  - `pop(): ` Method to remove item from a set and returns removed item\n",
        "  - `union(): ` Method that return a set containing union of sets..\n",
        "  - `intersection(): ` Method that return a set that is intersection of 2 other sets.\n",
        "  - `difference(): ` Method that return a set containing difference between two or more sets."
      ]
    },
    {
      "cell_type": "markdown",
      "metadata": {
        "id": "oHAsL14-KHAI"
      },
      "source": [
        "**add()**  \n",
        "- Method to add a new element to a set itself\n",
        "- `Syntax: set.add(<item>)`"
      ]
    },
    {
      "cell_type": "code",
      "execution_count": 24,
      "metadata": {
        "colab": {
          "base_uri": "https://localhost:8080/"
        },
        "id": "NiqAsOzTKDE_",
        "outputId": "e46dcd8e-3141-4f11-d09e-038a86b3d248"
      },
      "outputs": [
        {
          "name": "stdout",
          "output_type": "stream",
          "text": [
            "{0, True, 'set', 'methods'}\n"
          ]
        }
      ],
      "source": [
        "# inialize set\n",
        "set_methods = {True, 1, 'set', 'methods', 0}\n",
        "print(set_methods)"
      ]
    },
    {
      "cell_type": "code",
      "execution_count": 25,
      "metadata": {
        "colab": {
          "base_uri": "https://localhost:8080/"
        },
        "id": "JTRG7AbEKDCL",
        "outputId": "ffcc0108-d227-4175-d945-15c7e12344a3"
      },
      "outputs": [
        {
          "name": "stdout",
          "output_type": "stream",
          "text": [
            "{0, True, 'set', 'methods'}\n"
          ]
        }
      ],
      "source": [
        "# add item \"awesome\"\n",
        "# hint: set.add(<item>)\n",
        "\n",
        "set_methods.add(False)\n",
        "print(set_methods)"
      ]
    },
    {
      "cell_type": "markdown",
      "metadata": {
        "id": "Ob-kL370K6JE"
      },
      "source": [
        "**remove()**  \n",
        "- Method to remove item from a set itself, without returning new set.\n",
        "- `Syntax: set.remove(<item>)`"
      ]
    },
    {
      "cell_type": "code",
      "execution_count": 26,
      "metadata": {
        "id": "Ft24hiFLKC_l"
      },
      "outputs": [],
      "source": [
        "# remove item \"awesome\" from set\n",
        "# hint: set.remove(<awesome>)\n"
      ]
    },
    {
      "cell_type": "markdown",
      "metadata": {
        "id": "8szKRgGbLZ-r"
      },
      "source": [
        "`Note: If item name is not present in Set, it will raise an error/exception.`\n"
      ]
    },
    {
      "cell_type": "markdown",
      "metadata": {
        "id": "adlX-XAKLrHH"
      },
      "source": [
        "**pop()**\n",
        "- You can also use the pop() method to remove an item, but this method will remove a random item, so you cannot be sure what item that gets removed.\n",
        "- Generally, it will remove from starting item in a set.\n",
        "- It returns a item that is removed from a set.\n",
        "- `syntax: removed_item = set.pop()`"
      ]
    },
    {
      "cell_type": "code",
      "execution_count": 27,
      "metadata": {
        "id": "zJk87bC9KC0z"
      },
      "outputs": [],
      "source": [
        "# remove set item using \"pop()\"\n",
        "# hint: removed_item = set.pop()\n"
      ]
    },
    {
      "cell_type": "markdown",
      "metadata": {
        "id": "xTxKcoF8MrK7"
      },
      "source": [
        "**union()**\n",
        "- Method that return a set containing union of sets.\n",
        "- The union of two sets A and B include all the elements of set A and B. No duplicates in final obtained set.\n",
        "- `syntax:`\n",
        "  1. set_union = set1.union(set2)\n",
        "  2. set_union = set1 | set2\n"
      ]
    },
    {
      "cell_type": "code",
      "execution_count": 28,
      "metadata": {
        "colab": {
          "base_uri": "https://localhost:8080/"
        },
        "id": "DEdcazwIOxdO",
        "outputId": "52773fc7-5385-4d57-892e-fc0eb82d3600"
      },
      "outputs": [
        {
          "name": "stdout",
          "output_type": "stream",
          "text": [
            "{1, 2, 3, 4, 5}\n",
            "{4, 5, 6, 7, 8}\n"
          ]
        }
      ],
      "source": [
        "## create two sets\n",
        "set1 = {1, 2, 3, 4, 5}\n",
        "set2= {4, 5, 6, 7, 8}\n",
        "\n",
        "print(set1)\n",
        "print(set2)"
      ]
    },
    {
      "cell_type": "code",
      "execution_count": 40,
      "metadata": {
        "colab": {
          "base_uri": "https://localhost:8080/"
        },
        "id": "uimcdFr2OxaZ",
        "outputId": "441d18b9-5551-4688-83a5-d4a119e7a944"
      },
      "outputs": [
        {
          "name": "stdout",
          "output_type": "stream",
          "text": [
            "Union of set1 and set2 is: None\n"
          ]
        }
      ],
      "source": [
        "# union of set using union() method\n",
        "# hint: set_union = set1.union(set2)\n",
        "\n",
        "set_union = None\n",
        "\n",
        "print(f\"Union of set1 and set2 is: {set_union}\")\n"
      ]
    },
    {
      "cell_type": "code",
      "execution_count": 30,
      "metadata": {
        "id": "NjImWpKAOxWd"
      },
      "outputs": [],
      "source": [
        "# union of set using (|) operator\n",
        "# hint: set_union_pipe = set1 |set2\n",
        "\n"
      ]
    },
    {
      "cell_type": "markdown",
      "metadata": {
        "id": "74YET12AR3oh"
      },
      "source": [
        "**intersection()**\n",
        "- Method that return a set containing intesection of sets.\n",
        "- The intersection of two sets A and B include the common elements between set A and B. No duplicates in final obtained set.\n",
        "\n",
        "- `syntax:`\n",
        "  1. set_common = set1.intersection(set2)\n",
        "  2. set_union = set1 & set2"
      ]
    },
    {
      "cell_type": "code",
      "execution_count": 31,
      "metadata": {
        "id": "IHB5efXvSmGi"
      },
      "outputs": [],
      "source": [
        "# intersection of set using intersection() method\n",
        "# hint: set_common = set1.intersection(set2)\n",
        "\n"
      ]
    },
    {
      "cell_type": "code",
      "execution_count": 32,
      "metadata": {
        "id": "4XaJBiH8Sl6K"
      },
      "outputs": [],
      "source": [
        "# intersection of set using (&) operator\n",
        "# hint: set_common2 = set1 & set2\n",
        "\n"
      ]
    },
    {
      "cell_type": "markdown",
      "metadata": {
        "id": "Z9SBdMwlTbcW"
      },
      "source": [
        "**difference():**\n",
        "- Method that return a set containing difference between two or more sets.\n",
        "- The difference between two sets A and B denoted by `A-B`include elements of set A that are not present on set B.\n",
        "- `syntax: set_diff = set1.difference(set2)`"
      ]
    },
    {
      "cell_type": "code",
      "execution_count": 33,
      "metadata": {
        "id": "jerPC--eSluE"
      },
      "outputs": [],
      "source": [
        "# difference of set using difference() method\n",
        "# hint: set_diff = set1.difference(set2)\n",
        "# or\n",
        "# hint: set_diff = set1 - set2\n"
      ]
    },
    {
      "cell_type": "markdown",
      "metadata": {
        "id": "2ikdrVm2Pshw"
      },
      "source": [
        "**Different Set Methods:**  \n",
        "\n",
        "| Method                  | Description                                                          |\n",
        "|-------------------------|----------------------------------------------------------------------|\n",
        "| add()                   | Adds an element to the set                                            |\n",
        "| clear()                 | Removes all the elements from the set                                  |\n",
        "| copy()                  | Returns a copy of the set                                             |\n",
        "| difference()            | Returns a set containing the difference between two or more sets      |\n",
        "| difference_update()     | Removes the items in this set that are also included in another, specified set |\n",
        "| discard()               | Remove the specified item                                             |\n",
        "| intersection()          | Returns a set, that is the intersection of two other sets             |\n",
        "| intersection_update()   | Removes the items in this set that are not present in other, specified set(s) |\n",
        "| isdisjoint()            | Returns whether two sets have an intersection or not                  |\n",
        "| issubset()              | Returns whether another set contains this set or not                  |\n",
        "| issuperset()            | Returns whether this set contains another set or not                  |\n",
        "| pop()                   | Removes an element from the set                                       |\n",
        "| remove()                | Removes the specified element                                         |\n",
        "| symmetric_difference()  | Returns a set with the symmetric differences of two sets              |\n",
        "| symmetric_difference_update() | Inserts the symmetric differences from this set and another           |\n",
        "| union()                 | Return a set containing the union of sets                             |\n",
        "| update()                | Update the set with the union of this set and others                  |\n"
      ]
    },
    {
      "cell_type": "markdown",
      "metadata": {
        "id": "2Xi4lLsHBNfB"
      },
      "source": [
        "## 3 .Sets are Mutable\n",
        "- Like Lists, Sets are mutable.\n",
        "  - We can add new items to set.\n",
        "  - We can delete existing items in set.\n",
        "  - However, we cannot change existing item to another item in a set.\n",
        "\n"
      ]
    },
    {
      "cell_type": "code",
      "execution_count": 34,
      "metadata": {
        "id": "L0EwJLuUAnPC"
      },
      "outputs": [],
      "source": [
        "# Given Set, verify Sets are mutable\n",
        "# Hint: .add(item)\n",
        "\n",
        "sets_mutable = None"
      ]
    },
    {
      "cell_type": "markdown",
      "metadata": {
        "id": "rCwJNVjbWsNN"
      },
      "source": [
        "## 5 Loop Sets.\n",
        "\n",
        "- Similar to Strings, List, Tuple, you can also loop through list items using a **for** loop.\n",
        "\n",
        "`Q. Initialize Set and print set items one by one using for loop.`"
      ]
    },
    {
      "cell_type": "code",
      "execution_count": 35,
      "metadata": {
        "id": "dnHXmm3RWkF9"
      },
      "outputs": [],
      "source": [
        "# write your program\n"
      ]
    },
    {
      "cell_type": "markdown",
      "metadata": {
        "id": "0kLQt4glaWZj"
      },
      "source": [
        "## 6. Set Comprehension\n",
        "- As seen in List chapter, we can also use concept of List comprehension in set as well.\n",
        "\n",
        "`Q. Given List = ['item1', 1, 2, 'item4'], create Set using list items using Set comprehension.`\n",
        "\n",
        "_output: {'item4', 1, 2, 'item1'}_"
      ]
    },
    {
      "cell_type": "code",
      "execution_count": 39,
      "metadata": {
        "id": "rGXA2T-gaRvB"
      },
      "outputs": [],
      "source": [
        "# Initialize list\n",
        "# create set using set comprehension\n",
        "\n",
        "sample_list = ['item1', 1, 2, 'item4']\n"
      ]
    },
    {
      "cell_type": "markdown",
      "metadata": {
        "id": "O4tq4QdEeq_T"
      },
      "source": [
        "**Q. Write a python program to sort Set items in ascending order.**\n",
        "\n",
        "`Hint: sorted(<iterable>, reverse=False`\n"
      ]
    },
    {
      "cell_type": "code",
      "execution_count": 37,
      "metadata": {},
      "outputs": [
        {
          "name": "stdout",
          "output_type": "stream",
          "text": [
            "[1, 2, 3, 5, 8, 9, 22, 43, 67]\n"
          ]
        }
      ],
      "source": [
        "'''using the Building method of the python'''\n",
        "# set the default set\n",
        "def sort_item(num):\n",
        "# use the sorted method \n",
        "  sort_item = sorted(num)\n",
        "  return sort_item\n",
        "my_set = {2,5,67,43,22,1,8,9,2,3}\n",
        "print(sort_item(my_set))"
      ]
    },
    {
      "cell_type": "code",
      "execution_count": 38,
      "metadata": {},
      "outputs": [
        {
          "name": "stdout",
          "output_type": "stream",
          "text": [
            "[1, 2, 3, 4, 5, 6, 7, 8, 9, 10]\n"
          ]
        }
      ],
      "source": [
        "'''use the logic of the python'''\n",
        "def sort_item(num):\n",
        "    for i in range(len(num)):\n",
        "       for j in range(i + 1, len(num)):\n",
        "           if(num[i] > num[j]):\n",
        "               temp = num[i]\n",
        "               num[i] = num[j]\n",
        "               num[j] = temp\n",
        "    return  num\n",
        "list_item = [7,2,3,1,5,9,8,6,4,10]\n",
        "temp = []\n",
        "print(sort_item(list_item))"
      ]
    },
    {
      "cell_type": "code",
      "execution_count": null,
      "metadata": {},
      "outputs": [],
      "source": []
    }
  ],
  "metadata": {
    "colab": {
      "provenance": []
    },
    "kernelspec": {
      "display_name": "Python 3",
      "name": "python3"
    },
    "language_info": {
      "codemirror_mode": {
        "name": "ipython",
        "version": 3
      },
      "file_extension": ".py",
      "mimetype": "text/x-python",
      "name": "python",
      "nbconvert_exporter": "python",
      "pygments_lexer": "ipython3",
      "version": "3.11.4"
    }
  },
  "nbformat": 4,
  "nbformat_minor": 0
}
