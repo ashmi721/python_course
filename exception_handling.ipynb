{
  "cells": [
    {
      "cell_type": "markdown",
      "metadata": {
        "id": "SwxZoyQ9cUV2"
      },
      "source": [
        "<h2> Exception Handling in python </h2>"
      ]
    },
    {
      "cell_type": "code",
      "execution_count": 4,
      "metadata": {
        "id": "Gz8ldgKecZ-F"
      },
      "outputs": [
        {
          "ename": "ValueError",
          "evalue": "invalid literal for int() with base 10: 'a'",
          "output_type": "error",
          "traceback": [
            "\u001b[1;31m---------------------------------------------------------------------------\u001b[0m",
            "\u001b[1;31mValueError\u001b[0m                                Traceback (most recent call last)",
            "Cell \u001b[1;32mIn[4], line 4\u001b[0m\n\u001b[0;32m      1\u001b[0m \u001b[39m#1. Zero division error exception handling\u001b[39;00m\n\u001b[0;32m      3\u001b[0m a \u001b[39m=\u001b[39m \u001b[39mint\u001b[39m(\u001b[39minput\u001b[39m(\u001b[39m\"\u001b[39m\u001b[39menter number 1: \u001b[39m\u001b[39m\"\u001b[39m))\n\u001b[1;32m----> 4\u001b[0m b \u001b[39m=\u001b[39m \u001b[39mint\u001b[39;49m(\u001b[39minput\u001b[39;49m(\u001b[39m\"\u001b[39;49m\u001b[39menter number 2: \u001b[39;49m\u001b[39m\"\u001b[39;49m))\n\u001b[0;32m      5\u001b[0m \u001b[39m# try:\u001b[39;00m\n\u001b[0;32m      6\u001b[0m \u001b[39m#   divisible = a/b\u001b[39;00m\n\u001b[0;32m      7\u001b[0m \u001b[39m# except Exception as e:\u001b[39;00m\n\u001b[1;32m   (...)\u001b[0m\n\u001b[0;32m     11\u001b[0m \n\u001b[0;32m     12\u001b[0m \u001b[39m# write a program to handle the specify exception\u001b[39;00m\n\u001b[0;32m     13\u001b[0m \u001b[39mtry\u001b[39;00m:\n",
            "\u001b[1;31mValueError\u001b[0m: invalid literal for int() with base 10: 'a'"
          ]
        }
      ],
      "source": [
        "#1. Zero division error exception handling\n",
        "\n",
        "a = int(input(\"enter number 1: \"))\n",
        "b = int(input(\"enter number 2: \"))\n",
        "# try:\n",
        "#   divisible = a/b\n",
        "# except Exception as e:\n",
        "#   print(\"Exception occured:\",e)\n",
        "\n",
        "# print(\"Hello world\")\n",
        "\n",
        "# write a program to handle the specify exception\n",
        "try:\n",
        "  divisible = a/b\n",
        "except ZeroDivisionError:\n",
        "  print(\"Error: num is not divisible by 0 \")\n"
      ]
    },
    {
      "cell_type": "code",
      "execution_count": null,
      "metadata": {
        "id": "gAPzFEuGUNla"
      },
      "outputs": [],
      "source": [
        "# 2. TypeError\n",
        "a = 2\n",
        "b = \"2\"\n",
        "try:\n",
        " z = a + b\n",
        "except Exception as e:\n",
        "  print(\"Exception occured:\",e)\n",
        "\n",
        "# write a program to handle the specify exception\n",
        "try:\n",
        " z = a + b\n",
        "except TypeError:\n",
        " print(\"Error: cannot add an int and a str\")"
      ]
    },
    {
      "cell_type": "code",
      "execution_count": null,
      "metadata": {
        "colab": {
          "base_uri": "https://localhost:8080/"
        },
        "id": "tfxcmlevjBia",
        "outputId": "0db4c126-3385-4e80-fe09-891fa42c2784"
      },
      "outputs": [
        {
          "name": "stdout",
          "output_type": "stream",
          "text": [
            "Index Out of Bound.\n"
          ]
        }
      ],
      "source": [
        "# 3. IndexError\n",
        "try:\n",
        "    even_numbers = [2,4,6,8]\n",
        "    print(even_numbers[5])\n",
        "\n",
        "except ZeroDivisionError:\n",
        "    print(\"Denominator cannot be 0.\")\n",
        "\n",
        "except IndexError:\n",
        "    print(\"Index Out of Bound.\")"
      ]
    },
    {
      "cell_type": "code",
      "execution_count": null,
      "metadata": {
        "colab": {
          "base_uri": "https://localhost:8080/"
        },
        "id": "RBuFy_X7pVaW",
        "outputId": "4326ff56-8e37-4763-d823-0193f77344e8"
      },
      "outputs": [
        {
          "name": "stdout",
          "output_type": "stream",
          "text": [
            "Enter the num:3\n",
            "30\n"
          ]
        }
      ],
      "source": [
        "# 4. ValueError\n",
        "try:\n",
        "  n = int(input(\"Enter the num:\"))\n",
        "  for item in range(1,11):\n",
        "    mul = n * item\n",
        "except ZeroDivisionError:\n",
        "    print(\"Denominator cannot be 0.\")\n",
        "\n",
        "except IndexError:\n",
        "    print(\"Index Out of Bound.\")\n",
        "\n",
        "except Exception as e:\n",
        "    print(e)\n",
        "else:\n",
        "   print(mul)"
      ]
    },
    {
      "cell_type": "code",
      "execution_count": 5,
      "metadata": {
        "colab": {
          "base_uri": "https://localhost:8080/"
        },
        "id": "wTSsC6gAZ1nd",
        "outputId": "fbfca3cb-c9b9-4d17-c271-81245a25d2bc"
      },
      "outputs": [
        {
          "name": "stdout",
          "output_type": "stream",
          "text": [
            "can not be typecast str to int \n"
          ]
        }
      ],
      "source": [
        "# NameError\n",
        "try:\n",
        "   a = int(input(\"enter the num1:\"))\n",
        "   b = int(input(\"enter the num2:\"))\n",
        "\n",
        "   division = a / b\n",
        "\n",
        "except ZeroDivisionError:\n",
        "    print(\"Denominator cannot be 0.\")\n",
        "\n",
        "except ValueError:\n",
        "  print(\"can not be typecast str to int \")\n",
        "\n",
        "except Exception as e:\n",
        "  print(e)\n",
        "else:\n",
        "  print(division)"
      ]
    },
    {
      "cell_type": "code",
      "execution_count": null,
      "metadata": {
        "colab": {
          "base_uri": "https://localhost:8080/"
        },
        "id": "Fbm8V46HVYw2",
        "outputId": "34699c4a-d25b-47ae-c770-2642835833e9"
      },
      "outputs": [
        {
          "name": "stdout",
          "output_type": "stream",
          "text": [
            "Second element = 2\n",
            "Fourth element = 3\n"
          ]
        }
      ],
      "source": [
        "# Python program to handle simple runtime error\n",
        "#Python 3\n",
        "\n",
        "a = [1, 2, 3]\n",
        "try:\n",
        "\tprint (\"Second element = %d\" %(a[1]))\n",
        "\n",
        "\t# Throws error since there are only 3 elements in array\n",
        "\tprint (\"Fourth element = %d\" %(a[2]))\n",
        "\n",
        "except:\n",
        "\tprint (\"An error occurred\")\n"
      ]
    },
    {
      "cell_type": "markdown",
      "metadata": {
        "id": "drZDlacUb7sv"
      },
      "source": [
        "<h3> Finaly keyword in python </h3>\n",
        "The finally block will always be executed, no matter if the try block raises an error or not:"
      ]
    },
    {
      "cell_type": "code",
      "execution_count": null,
      "metadata": {
        "colab": {
          "base_uri": "https://localhost:8080/"
        },
        "id": "CFI47u55bHk6",
        "outputId": "5e1ccdfe-7289-45b2-d96d-f98b49567904"
      },
      "outputs": [
        {
          "name": "stdout",
          "output_type": "stream",
          "text": [
            "enter the num1:ab\n",
            "Invalid input! please enter the valid number:\n",
            "program executed complited\n"
          ]
        }
      ],
      "source": [
        "# used finaly block\n",
        "\n",
        "try:\n",
        "   a = int(input(\"enter the num1:\"))\n",
        "   result = 10/a\n",
        "   print(\"Result:\",result)\n",
        "except ValueError:\n",
        "  print(\"Invalid input! please enter the valid number:\")\n",
        "\n",
        "except ZeroDivisionError:\n",
        "    print(\"Denominator cannot be 0.\")\n",
        "\n",
        "finally:\n",
        "  print(\"program executed complited\")\n"
      ]
    },
    {
      "cell_type": "code",
      "execution_count": null,
      "metadata": {
        "colab": {
          "base_uri": "https://localhost:8080/"
        },
        "id": "KaYg1tigd3HP",
        "outputId": "ccb607ac-a037-4e36-d68a-51f0074d479a"
      },
      "outputs": [
        {
          "name": "stdout",
          "output_type": "stream",
          "text": [
            "enter the num1:3\n",
            "1.7320508075688772\n"
          ]
        }
      ],
      "source": [
        "# Raised keyword\n",
        "def calc_square_root(number):\n",
        "  if number < 0:\n",
        "    raise ValueError(\"canot calculate square root of the negative number\")\n",
        "  else:\n",
        "    return number ** 0.5\n",
        "\n",
        "a = int(input(\"enter the num1:\"))\n",
        "result = calc_square_root(a)\n",
        "print(result)\n",
        "\n",
        "try:\n",
        " result = calc_square_root(a)\n",
        "except ValueError as e:\n",
        "   print(\"ValueError:\",e)\n"
      ]
    }
  ],
  "metadata": {
    "colab": {
      "provenance": []
    },
    "kernelspec": {
      "display_name": "Python 3",
      "name": "python3"
    },
    "language_info": {
      "codemirror_mode": {
        "name": "ipython",
        "version": 3
      },
      "file_extension": ".py",
      "mimetype": "text/x-python",
      "name": "python",
      "nbconvert_exporter": "python",
      "pygments_lexer": "ipython3",
      "version": "3.11.4"
    }
  },
  "nbformat": 4,
  "nbformat_minor": 0
}
