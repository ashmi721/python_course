{
  "cells": [
    {
      "cell_type": "markdown",
      "metadata": {
        "id": "yNjDgOp_zIC4"
      },
      "source": [
        "## Python Strings\n",
        "- In python Strings are sequence of characters.\n",
        "- Strings in python are surrounded by either single quotes or double quotes.\n",
        "  - e.g. `'STRING'` or `\"STRING\"`\n",
        "\n",
        "- Uses of Strings Type:\n",
        "  - To record text information such as names.\n",
        "  - Strings comes heavily under natural language processing tasks.\n",
        "\n",
        "- Strings are ordered sequence because of 2 important characteristics:\n",
        "  1. `Order`:\n",
        "    - In string order of characters is important. E.g. hello != olleh\n",
        "    - The order of characters in a string determines its meaning and interpretation.\n",
        "\n",
        "  2. `Sequence`:\n",
        "    - A sequence is a collection of elements that are ordered and indexed.\n",
        "    - Strings are sequence, they consist of a sequence of individual characters.\n",
        "    - This allows you to access individual characters by their position within the string.\n",
        "\n",
        "- Being an ordered sequence, you can,\n",
        "  - Loop over the characters in String.\n",
        "  - Access specific characters using Indexing.\n",
        "  - Perform various other operations which will be discussed below.\n",
        "\n",
        "- In this lecture, we'll cover:  \n",
        "  1. Creating Strings\n",
        "  2. Concatenate Strings\n",
        "  3. Indexing Strings  \n",
        "  4. Slicing Strings  \n",
        "  5. Strings are immutable\n",
        "  6. String Methods  \n",
        "  7. String Formatting\n",
        "  8. Escape Characters\n",
        "  9. String Loop\n",
        "  10. String Exercise\n"
      ]
    },
    {
      "cell_type": "markdown",
      "metadata": {
        "id": "g-dXvAfN_cLz"
      },
      "source": [
        "**1. Creating Strings**\n",
        "- Single Line String can be created using:\n",
        "  - Single quotation ' '\n",
        "  - Double quotation \" \"\n",
        "\n",
        "- Muti Line String can be created using:\n",
        "  - Three Double Quotation (\" \" \")\n",
        "  - Three Single Quotation (' ' ')\n",
        "\n",
        "Multi Line Strings are mostly useful in creating Doc String. We will cover in function chapter in detail."
      ]
    },
    {
      "cell_type": "code",
      "execution_count": null,
      "metadata": {
        "colab": {
          "base_uri": "https://localhost:8080/"
        },
        "id": "dCs5UEaty2wu",
        "outputId": "164ac007-ef88-45a6-b0e6-993248fc501d"
      },
      "outputs": [
        {
          "name": "stdout",
          "output_type": "stream",
          "text": [
            "Single Quotation String:  string using single quotation\n",
            "Double Quotation String:  string using double quotation\n"
          ]
        }
      ],
      "source": [
        "# create string using single and double quotation\n",
        "\n",
        "single_quot_str = 'string using single quotation'\n",
        "double_quot_str = \"string using double quotation\"\n",
        "\n",
        "print(\"Single Quotation String: \", single_quot_str)\n",
        "print(\"Double Quotation String: \", double_quot_str)"
      ]
    },
    {
      "cell_type": "code",
      "execution_count": null,
      "metadata": {
        "colab": {
          "base_uri": "https://localhost:8080/",
          "height": 201
        },
        "id": "QhK3Qdp-g8Gc",
        "outputId": "77d3ebf9-160c-48fa-a268-2968de2db1ec"
      },
      "outputs": [
        {
          "ename": "AssertionError",
          "evalue": "ignored",
          "output_type": "error",
          "traceback": [
            "\u001b[0;31m---------------------------------------------------------------------------\u001b[0m",
            "\u001b[0;31mAssertionError\u001b[0m                            Traceback (most recent call last)",
            "\u001b[0;32m<ipython-input-26-e53399b5fa98>\u001b[0m in \u001b[0;36m<cell line: 9>\u001b[0;34m()\u001b[0m\n\u001b[1;32m      7\u001b[0m \u001b[0;31m# Hint: assert condition, <failure_statement>\u001b[0m\u001b[0;34m\u001b[0m\u001b[0;34m\u001b[0m\u001b[0m\n\u001b[1;32m      8\u001b[0m \u001b[0;34m\u001b[0m\u001b[0m\n\u001b[0;32m----> 9\u001b[0;31m \u001b[0;32massert\u001b[0m \u001b[0msingle_quot_str\u001b[0m \u001b[0;34m==\u001b[0m \u001b[0mdouble_quot_str\u001b[0m\u001b[0;34m,\u001b[0m \u001b[0;34m\"String are different\"\u001b[0m\u001b[0;34m\u001b[0m\u001b[0;34m\u001b[0m\u001b[0m\n\u001b[0m",
            "\u001b[0;31mAssertionError\u001b[0m: String are different"
          ]
        }
      ],
      "source": [
        "## use assert keyword\n",
        "# to check whether single_quot_str is equal to double_quot_str\n",
        "# Hint: assert condition, <failure_statement>\n",
        "\n",
        "## use assert keyword\n",
        "# to check whether single_quot_str is equal to double_quot_str\n",
        "# Hint: assert condition, <failure_statement>\n",
        "\n",
        "assert single_quot_str == double_quot_str, \"String are different\""
      ]
    },
    {
      "cell_type": "code",
      "execution_count": null,
      "metadata": {
        "colab": {
          "base_uri": "https://localhost:8080/"
        },
        "id": "jHK69XViAbnU",
        "outputId": "771c47ea-593b-470f-88d2-807227019876"
      },
      "outputs": [
        {
          "name": "stdout",
          "output_type": "stream",
          "text": [
            "Multi Line String:\n",
            "\n",
            "      Hi I am learning python.\n",
            "      After that I will learn web, AI, data science.\n",
            "\n"
          ]
        }
      ],
      "source": [
        "# create multi line string using Three Double Quotation\n",
        "\n",
        "mult_double_str = \"\"\"\n",
        "      Hi I am learning python.\n",
        "      After that I will learn web, AI, data science.\n",
        "\"\"\"\n",
        "\n",
        "print(\"Multi Line String:\")\n",
        "print(mult_double_str)"
      ]
    },
    {
      "cell_type": "code",
      "execution_count": null,
      "metadata": {
        "colab": {
          "base_uri": "https://localhost:8080/"
        },
        "id": "Bs1nfLrkBETA",
        "outputId": "af6d2f79-aaff-4f32-f592-83ad572e040a"
      },
      "outputs": [
        {
          "name": "stdout",
          "output_type": "stream",
          "text": [
            "Multi Line String:\n",
            "\n",
            "    I am from single quote\n",
            "    multi-line string\n",
            "\n"
          ]
        }
      ],
      "source": [
        "# create multi line string using Three Single Quotation\n",
        "\n",
        "mult_single_str = '''\n",
        "    I am from single quote\n",
        "    multi-line string\n",
        "'''\n",
        "\n",
        "print(\"Multi Line String:\")\n",
        "print(mult_single_str)"
      ]
    },
    {
      "cell_type": "markdown",
      "metadata": {
        "id": "dNTP5dJ3DBNG"
      },
      "source": [
        "`Q. Create a string named string_phrase and assign value **Hi I'm learning string creation.**`\n",
        "\n",
        "```\n",
        "output: **Hi I'm learning string creation.**\n",
        "```"
      ]
    },
    {
      "cell_type": "code",
      "execution_count": null,
      "metadata": {
        "colab": {
          "base_uri": "https://localhost:8080/",
          "height": 35
        },
        "id": "oyNhb-nZDmrY",
        "outputId": "fbd346d9-d075-4095-81a1-a5bb63cf9124"
      },
      "outputs": [
        {
          "data": {
            "application/vnd.google.colaboratory.intrinsic+json": {
              "type": "string"
            },
            "text/plain": [
              "\"Hi I'm learning string creation.\""
            ]
          },
          "execution_count": 29,
          "metadata": {},
          "output_type": "execute_result"
        }
      ],
      "source": [
        "# your program goes here\n",
        "sample_str = \"Hi I'm learning string creation.\"\n",
        "\n",
        "sample_str"
      ]
    },
    {
      "cell_type": "markdown",
      "metadata": {
        "id": "hkVdGYGfBj8u"
      },
      "source": [
        "**2. Concatenate Strings**\n",
        "- _To contenate (or combine) 2 or more strings, you can use `+` operator._\n",
        "\n",
        "`Q. Concatenate two string named a and b adding space in between.`  \n",
        "\n",
        "  ```\n",
        "  Input:  a = string,  b = concat  \n",
        "  Output: string concat\n",
        "\n",
        "  ```\n",
        "\n"
      ]
    },
    {
      "cell_type": "code",
      "execution_count": null,
      "metadata": {
        "colab": {
          "base_uri": "https://localhost:8080/"
        },
        "id": "fv7SXjCBBM_T",
        "outputId": "4d9225c8-fa91-4a3b-aa89-4d4f57fb32e3"
      },
      "outputs": [
        {
          "name": "stdout",
          "output_type": "stream",
          "text": [
            "string concat\n"
          ]
        }
      ],
      "source": [
        "# write your program here\n",
        "a = 'string'\n",
        "b = 'concat'\n",
        "\n",
        "str_concat = a + \" \" + b\n",
        "print(str_concat)"
      ]
    },
    {
      "cell_type": "markdown",
      "metadata": {
        "id": "XVyj8ExcCzKz"
      },
      "source": [
        "**3. Indexing Strings**  \n",
        "- Strings are sequence, this means Python can use indexes to call parts of the sequence.\n",
        "- `2 ways:`\n",
        "  - postive indexing\n",
        "  - negative indexing\n",
        "\n",
        "- `Syntax`\n",
        "```\n",
        "str[start:stop]         \n",
        "str[start:]             # items start through the rest of the string\n",
        "str[:stop]              # items from the beginning through stop-1\n",
        "str[:]                  # a copy of the whole string\n",
        "str[start:stop:step]    # start through not past stop, by step\n",
        "```\n",
        "\n",
        "<img src='https://drive.google.com/uc?id=14v_ajDViS7EZw5ljwrEQdIS2IKqJ7LHM' width='500'>"
      ]
    },
    {
      "cell_type": "markdown",
      "metadata": {
        "id": "B7ret7UgUBbc"
      },
      "source": [
        "`3.1 Positive Indexing`"
      ]
    },
    {
      "cell_type": "code",
      "execution_count": null,
      "metadata": {
        "colab": {
          "base_uri": "https://localhost:8080/"
        },
        "id": "XuVvuyaTGxib",
        "outputId": "c94602ee-8fe5-4b82-d9ef-d167c5711a1c"
      },
      "outputs": [
        {
          "name": "stdout",
          "output_type": "stream",
          "text": [
            "String Indexin\n"
          ]
        }
      ],
      "source": [
        "indexing_str = \"String Indexin\"\n",
        "print(indexing_str)"
      ]
    },
    {
      "cell_type": "code",
      "execution_count": null,
      "metadata": {
        "colab": {
          "base_uri": "https://localhost:8080/",
          "height": 36
        },
        "id": "bTjEPsI0CsNh",
        "outputId": "2c2255d6-23b6-4b0f-ea71-7d3f2704d80b"
      },
      "outputs": [
        {
          "data": {
            "application/vnd.google.colaboratory.intrinsic+json": {
              "type": "string"
            },
            "text/plain": [
              "'S'"
            ]
          },
          "execution_count": 2,
          "metadata": {},
          "output_type": "execute_result"
        }
      ],
      "source": [
        "# print first element (S) in the string\n",
        "\n",
        "indexing_str[0]"
      ]
    },
    {
      "cell_type": "code",
      "execution_count": null,
      "metadata": {
        "colab": {
          "base_uri": "https://localhost:8080/",
          "height": 36
        },
        "id": "YaqyMFbTGoLy",
        "outputId": "fa38b7c3-605e-4b0e-f163-ff7646fef10c"
      },
      "outputs": [
        {
          "data": {
            "application/vnd.google.colaboratory.intrinsic+json": {
              "type": "string"
            },
            "text/plain": [
              "'r'"
            ]
          },
          "execution_count": 3,
          "metadata": {},
          "output_type": "execute_result"
        }
      ],
      "source": [
        "# print third element (r) in the string\n",
        "indexing_str[2]"
      ]
    },
    {
      "cell_type": "code",
      "execution_count": null,
      "metadata": {
        "colab": {
          "base_uri": "https://localhost:8080/",
          "height": 36
        },
        "id": "cjCkgcYwGq-a",
        "outputId": "54454063-ac34-48f2-9262-e667a7ab9c86"
      },
      "outputs": [
        {
          "data": {
            "application/vnd.google.colaboratory.intrinsic+json": {
              "type": "string"
            },
            "text/plain": [
              "'g'"
            ]
          },
          "execution_count": 4,
          "metadata": {},
          "output_type": "execute_result"
        }
      ],
      "source": [
        "# print 6th element (g) in the string\n",
        "indexing_str[5]"
      ]
    },
    {
      "cell_type": "code",
      "execution_count": null,
      "metadata": {
        "colab": {
          "base_uri": "https://localhost:8080/",
          "height": 36
        },
        "id": "FsSVnYU_Gug0",
        "outputId": "9c1593e5-edb1-4ed8-a7ef-439c205a4ec3"
      },
      "outputs": [
        {
          "data": {
            "application/vnd.google.colaboratory.intrinsic+json": {
              "type": "string"
            },
            "text/plain": [
              "'n'"
            ]
          },
          "execution_count": 6,
          "metadata": {},
          "output_type": "execute_result"
        }
      ],
      "source": [
        "# print last element (n) in the string\n",
        "\n",
        "indexing_str[13]"
      ]
    },
    {
      "cell_type": "markdown",
      "metadata": {
        "id": "sba8N05rG6nL"
      },
      "source": [
        "`3.2 Negative Indexing`"
      ]
    },
    {
      "cell_type": "code",
      "execution_count": null,
      "metadata": {
        "colab": {
          "base_uri": "https://localhost:8080/",
          "height": 36
        },
        "id": "rygUt4qyHAhw",
        "outputId": "05dfa0f2-5d61-4d6c-add5-cd2914d568d4"
      },
      "outputs": [
        {
          "data": {
            "application/vnd.google.colaboratory.intrinsic+json": {
              "type": "string"
            },
            "text/plain": [
              "'S'"
            ]
          },
          "execution_count": 7,
          "metadata": {},
          "output_type": "execute_result"
        }
      ],
      "source": [
        "# print first item (S) using negative indexing\n",
        "\n",
        "indexing_str[-14]"
      ]
    },
    {
      "cell_type": "code",
      "execution_count": null,
      "metadata": {
        "colab": {
          "base_uri": "https://localhost:8080/",
          "height": 36
        },
        "id": "ii1NPFj0HU8W",
        "outputId": "d99c1467-cc6f-4329-d640-e10bafcf5c1c"
      },
      "outputs": [
        {
          "data": {
            "application/vnd.google.colaboratory.intrinsic+json": {
              "type": "string"
            },
            "text/plain": [
              "'n'"
            ]
          },
          "execution_count": 8,
          "metadata": {},
          "output_type": "execute_result"
        }
      ],
      "source": [
        "# print last item (n) using negative indexing\n",
        "\n",
        "indexing_str[-1]"
      ]
    },
    {
      "cell_type": "code",
      "execution_count": null,
      "metadata": {
        "colab": {
          "base_uri": "https://localhost:8080/",
          "height": 36
        },
        "id": "3mESOtxCHdVn",
        "outputId": "9f2109e3-cb73-42af-fec2-7fc6ebb19dd2"
      },
      "outputs": [
        {
          "data": {
            "application/vnd.google.colaboratory.intrinsic+json": {
              "type": "string"
            },
            "text/plain": [
              "'g'"
            ]
          },
          "execution_count": 9,
          "metadata": {},
          "output_type": "execute_result"
        }
      ],
      "source": [
        "# print 6th item (g) using negative indexing\n",
        "\n",
        "indexing_str[-9]"
      ]
    },
    {
      "cell_type": "markdown",
      "metadata": {
        "id": "HX6EyDXzUp2b"
      },
      "source": [
        "**4. Slicing Strings**\n",
        "- We also have option to slice the string i.e. grab only some characters as per choice.\n",
        "- Example:\n",
        "  - slice first 2 characters: `St`\n",
        "  - slice first 6 characters: `String`\n",
        "  - slice last 7 characters: `Indexin`\n",
        "\n",
        "- Syntax: `str[start:stop:step]`\n",
        "\n",
        "<img src='https://drive.google.com/uc?id=1aurypokd7lIxlWW1XfigHl5r8BAFjN1k' width='500'>\n"
      ]
    },
    {
      "cell_type": "markdown",
      "metadata": {
        "id": "4ecEd7qKbDrN"
      },
      "source": [
        "`Case1: when step is positive `"
      ]
    },
    {
      "cell_type": "code",
      "execution_count": null,
      "metadata": {
        "colab": {
          "base_uri": "https://localhost:8080/",
          "height": 36
        },
        "id": "mM9Ba59Qbzk7",
        "outputId": "057394a9-adad-40ec-beb4-dcf63ff5f279"
      },
      "outputs": [
        {
          "data": {
            "application/vnd.google.colaboratory.intrinsic+json": {
              "type": "string"
            },
            "text/plain": [
              "'String Indexin'"
            ]
          },
          "execution_count": 10,
          "metadata": {},
          "output_type": "execute_result"
        }
      ],
      "source": [
        "slice_str = \"String Indexin\"\n",
        "slice_str"
      ]
    },
    {
      "cell_type": "code",
      "execution_count": null,
      "metadata": {
        "colab": {
          "base_uri": "https://localhost:8080/",
          "height": 36
        },
        "id": "i7vRltujHhkH",
        "outputId": "03c376ae-3cae-49e4-ddec-42a655531f86"
      },
      "outputs": [
        {
          "data": {
            "application/vnd.google.colaboratory.intrinsic+json": {
              "type": "string"
            },
            "text/plain": [
              "'Str'"
            ]
          },
          "execution_count": 11,
          "metadata": {},
          "output_type": "execute_result"
        }
      ],
      "source": [
        "# slice first 3 characters using positive index\n",
        "slice_str[0:3]"
      ]
    },
    {
      "cell_type": "code",
      "execution_count": null,
      "metadata": {
        "colab": {
          "base_uri": "https://localhost:8080/",
          "height": 36
        },
        "id": "ZLLZvj36bRUV",
        "outputId": "85cf0f9f-60ad-4ac3-f81e-fd5e6192097b"
      },
      "outputs": [
        {
          "data": {
            "application/vnd.google.colaboratory.intrinsic+json": {
              "type": "string"
            },
            "text/plain": [
              "'Str'"
            ]
          },
          "execution_count": 12,
          "metadata": {},
          "output_type": "execute_result"
        }
      ],
      "source": [
        "# slice first 3 characters using negative index\n",
        "slice_str[-14:-11]"
      ]
    },
    {
      "cell_type": "code",
      "execution_count": null,
      "metadata": {
        "colab": {
          "base_uri": "https://localhost:8080/",
          "height": 36
        },
        "id": "mKRvR8nJcNcP",
        "outputId": "251a75eb-b934-4b04-9b7f-aeb9002c9e8b"
      },
      "outputs": [
        {
          "data": {
            "application/vnd.google.colaboratory.intrinsic+json": {
              "type": "string"
            },
            "text/plain": [
              "'Srn nei'"
            ]
          },
          "execution_count": 15,
          "metadata": {},
          "output_type": "execute_result"
        }
      ],
      "source": [
        "# get characters at even indexing\n",
        "# desired output: \"srn nei\"\n",
        "#\n",
        "# Hint: use step = 2\n",
        "\n",
        "slice_str[0:14:2]"
      ]
    },
    {
      "cell_type": "code",
      "execution_count": null,
      "metadata": {
        "colab": {
          "base_uri": "https://localhost:8080/",
          "height": 36
        },
        "id": "AQjZI4DVdehS",
        "outputId": "cc6fb913-8a37-4150-9945-adfb70d7cb4f"
      },
      "outputs": [
        {
          "data": {
            "application/vnd.google.colaboratory.intrinsic+json": {
              "type": "string"
            },
            "text/plain": [
              "'Srn nei'"
            ]
          },
          "execution_count": 17,
          "metadata": {},
          "output_type": "execute_result"
        }
      ],
      "source": [
        "slice_str[::2]"
      ]
    },
    {
      "cell_type": "markdown",
      "metadata": {
        "id": "SUh_MSDKbIfw"
      },
      "source": [
        "`Case2: when step is negative`"
      ]
    },
    {
      "cell_type": "code",
      "execution_count": null,
      "metadata": {
        "colab": {
          "base_uri": "https://localhost:8080/",
          "height": 36
        },
        "id": "SPeVM06jIDeI",
        "outputId": "abc3489d-f2ea-432d-afac-6da67238c496"
      },
      "outputs": [
        {
          "data": {
            "application/vnd.google.colaboratory.intrinsic+json": {
              "type": "string"
            },
            "text/plain": [
              "'rtS'"
            ]
          },
          "execution_count": 23,
          "metadata": {},
          "output_type": "execute_result"
        }
      ],
      "source": [
        "# slice first 3 characters using positive index\n",
        "slice_str[2::-1]"
      ]
    },
    {
      "cell_type": "code",
      "execution_count": null,
      "metadata": {
        "colab": {
          "base_uri": "https://localhost:8080/",
          "height": 36
        },
        "id": "Zj0YQ7rzcmwi",
        "outputId": "a0856c81-818e-4ad5-e648-7c8835bf749b"
      },
      "outputs": [
        {
          "data": {
            "application/vnd.google.colaboratory.intrinsic+json": {
              "type": "string"
            },
            "text/plain": [
              "'nix'"
            ]
          },
          "execution_count": 24,
          "metadata": {},
          "output_type": "execute_result"
        }
      ],
      "source": [
        "# slice last 3 characters using negative index\n",
        "slice_str[-1:-4:-1]"
      ]
    },
    {
      "cell_type": "code",
      "execution_count": null,
      "metadata": {
        "colab": {
          "base_uri": "https://localhost:8080/",
          "height": 36
        },
        "id": "6Agf9MLeegB1",
        "outputId": "dfc5a6de-553d-4ff7-d317-9130a7712b25"
      },
      "outputs": [
        {
          "data": {
            "application/vnd.google.colaboratory.intrinsic+json": {
              "type": "string"
            },
            "text/plain": [
              "'nixednI gnirtS'"
            ]
          },
          "execution_count": 25,
          "metadata": {},
          "output_type": "execute_result"
        }
      ],
      "source": [
        "# reverse string\n",
        "# output: \"nixednI gnirtS\"\n",
        "# String Indexin\n",
        "\n",
        "slice_str[-1::-1]"
      ]
    },
    {
      "cell_type": "code",
      "execution_count": null,
      "metadata": {
        "colab": {
          "base_uri": "https://localhost:8080/",
          "height": 36
        },
        "id": "x4g7tfZhgvKH",
        "outputId": "75bcbb0e-f78a-4901-b0fb-ab68df4436bd"
      },
      "outputs": [
        {
          "data": {
            "application/vnd.google.colaboratory.intrinsic+json": {
              "type": "string"
            },
            "text/plain": [
              "'nixednI gnirtS'"
            ]
          },
          "execution_count": 26,
          "metadata": {},
          "output_type": "execute_result"
        }
      ],
      "source": [
        "slice_str[::-1]"
      ]
    },
    {
      "cell_type": "markdown",
      "metadata": {
        "id": "wQSSTW-0e2Vf"
      },
      "source": [
        "**5. Strings are immutable**\n",
        "- Strings have important property known as immutability.\n",
        "- This means, once string is created, the elements within it cannot be changed or replaced."
      ]
    },
    {
      "cell_type": "code",
      "execution_count": null,
      "metadata": {
        "colab": {
          "base_uri": "https://localhost:8080/",
          "height": 209
        },
        "id": "wZhnTTKXj1I3",
        "outputId": "32859c00-4715-4d3f-81d1-413f02d204e9"
      },
      "outputs": [
        {
          "ename": "TypeError",
          "evalue": "ignored",
          "output_type": "error",
          "traceback": [
            "\u001b[0;31m---------------------------------------------------------------------------\u001b[0m",
            "\u001b[0;31mTypeError\u001b[0m                                 Traceback (most recent call last)",
            "\u001b[0;32m<ipython-input-27-86a85cc67974>\u001b[0m in \u001b[0;36m<cell line: 4>\u001b[0;34m()\u001b[0m\n\u001b[1;32m      2\u001b[0m \u001b[0;34m\u001b[0m\u001b[0m\n\u001b[1;32m      3\u001b[0m \u001b[0;31m# try to replace character \"S\" with \"s\"\u001b[0m\u001b[0;34m\u001b[0m\u001b[0;34m\u001b[0m\u001b[0m\n\u001b[0;32m----> 4\u001b[0;31m \u001b[0mtest_str\u001b[0m\u001b[0;34m[\u001b[0m\u001b[0;36m0\u001b[0m\u001b[0;34m]\u001b[0m \u001b[0;34m=\u001b[0m \u001b[0;34m's'\u001b[0m\u001b[0;34m\u001b[0m\u001b[0;34m\u001b[0m\u001b[0m\n\u001b[0m",
            "\u001b[0;31mTypeError\u001b[0m: 'str' object does not support item assignment"
          ]
        }
      ],
      "source": [
        "test_str = \"String Indexin\"\n",
        "\n",
        "# try to replace character \"S\" with \"s\"\n",
        "test_str[0] = 's'"
      ]
    },
    {
      "cell_type": "markdown",
      "metadata": {
        "id": "DRevno20kP5C"
      },
      "source": [
        "As we got error, This means we cannot change string once it's created."
      ]
    },
    {
      "cell_type": "markdown",
      "metadata": {
        "id": "FpBNxvVFkc53"
      },
      "source": [
        "**6. String Methods**\n",
        "- Methods are generally a function inside Class.\n",
        "\n",
        "`Confused? Don't worry it will be clear after function, and OOP class.`\n",
        "\n",
        "- You can list String methods using dir() function.\n",
        "  - str_demo = \"demo\" --> dir(str_demo)\n",
        "\n",
        "- methods are access using dot(.) operator with the method name.\n",
        "  - **object.method(parameters)**\n",
        "  - e.g. str_demo.upper()\n",
        "\n",
        "- `most common string methods are:`\n",
        "  - .upper() --> Upper Case a string\n",
        "  - .lower() --> Lower Case a string\n",
        "  - .split() --> Split a string at specified separator\n",
        "  - .strip() --> Return trimmed version of the string\n",
        "  - .replace() --> Returns a string where a specified value is replaced with a specified value\n",
        "  - .endswith() --> Returns True if the string ends with specified value\n",
        "  - .isdigit() --> Returns True if all characters in the string are digits\n",
        "\n",
        "\n"
      ]
    },
    {
      "cell_type": "code",
      "execution_count": null,
      "metadata": {
        "colab": {
          "base_uri": "https://localhost:8080/"
        },
        "id": "gQdO-zmLen4N",
        "outputId": "a8bc0ad1-dabd-4268-8a20-7f55b959a691"
      },
      "outputs": [
        {
          "name": "stdout",
          "output_type": "stream",
          "text": [
            "   I am practicing String MEthod!!\n"
          ]
        }
      ],
      "source": [
        "# initialize sample string\n",
        "str_method = \"   I am practicing String MEthod!!\"\n",
        "print(str_method)"
      ]
    },
    {
      "cell_type": "code",
      "execution_count": null,
      "metadata": {
        "colab": {
          "base_uri": "https://localhost:8080/",
          "height": 36
        },
        "id": "k2ydi8DWgyY3",
        "outputId": "e49f6cf5-5a14-45eb-a2e4-e391d1659a58"
      },
      "outputs": [
        {
          "data": {
            "application/vnd.google.colaboratory.intrinsic+json": {
              "type": "string"
            },
            "text/plain": [
              "'   I AM PRACTICING STRING METHOD!!'"
            ]
          },
          "execution_count": 29,
          "metadata": {},
          "output_type": "execute_result"
        }
      ],
      "source": [
        "# convert string to upper case\n",
        "# Hint: .upper()\n",
        "str_method.upper()"
      ]
    },
    {
      "cell_type": "code",
      "execution_count": null,
      "metadata": {
        "colab": {
          "base_uri": "https://localhost:8080/",
          "height": 36
        },
        "id": "hwkBRK10g0QM",
        "outputId": "a3ef7969-31cd-49f4-bada-5f4808158f17"
      },
      "outputs": [
        {
          "data": {
            "application/vnd.google.colaboratory.intrinsic+json": {
              "type": "string"
            },
            "text/plain": [
              "'   i am practicing string method!!'"
            ]
          },
          "execution_count": 30,
          "metadata": {},
          "output_type": "execute_result"
        }
      ],
      "source": [
        "# convert string to lower case\n",
        "# Hint: .lower()\n",
        "\n",
        "str_method.lower()"
      ]
    },
    {
      "cell_type": "code",
      "execution_count": null,
      "metadata": {
        "colab": {
          "base_uri": "https://localhost:8080/"
        },
        "id": "2Aem2vIpifRT",
        "outputId": "84a3d8e2-626b-4812-f64b-c9a852dbd024"
      },
      "outputs": [
        {
          "data": {
            "text/plain": [
              "['   I am ', ' String MEthod!!']"
            ]
          },
          "execution_count": 33,
          "metadata": {},
          "output_type": "execute_result"
        }
      ],
      "source": [
        "# split string based on white space\n",
        "# Hint: .split()\n",
        "\n",
        "str_method.split(\"practicing\")"
      ]
    },
    {
      "cell_type": "code",
      "execution_count": null,
      "metadata": {
        "colab": {
          "base_uri": "https://localhost:8080/",
          "height": 36
        },
        "id": "FamhC9_6ssNE",
        "outputId": "d240dac1-2f85-4b91-fe5f-33fb6d37521a"
      },
      "outputs": [
        {
          "data": {
            "application/vnd.google.colaboratory.intrinsic+json": {
              "type": "string"
            },
            "text/plain": [
              "'   I have practiced String MEthod!!'"
            ]
          },
          "execution_count": 40,
          "metadata": {},
          "output_type": "execute_result"
        }
      ],
      "source": [
        "# Replace \"am parcticing\" with \"have practiced\"\n",
        "# Hint: .string(to_replace_str, desired_str)\n",
        "\n",
        "to_replace = \"am practicing\"\n",
        "replace_by = \"have practiced\"\n",
        "\n",
        "replaced_str = str_method.replace(to_replace, replace_by)\n",
        "replaced_str"
      ]
    },
    {
      "cell_type": "code",
      "execution_count": null,
      "metadata": {
        "colab": {
          "base_uri": "https://localhost:8080/"
        },
        "id": "K_XET_qUsu-K",
        "outputId": "110e1f20-4fe5-4ba3-c5bf-66fd632ad60e"
      },
      "outputs": [
        {
          "data": {
            "text/plain": [
              "False"
            ]
          },
          "execution_count": 39,
          "metadata": {},
          "output_type": "execute_result"
        }
      ],
      "source": [
        "# Test if string end with \"!!\"\n",
        "# Hint: .endswith(\"!!\")\n",
        "\n",
        "str_method.endswith(\"!!!\")"
      ]
    },
    {
      "cell_type": "code",
      "execution_count": null,
      "metadata": {
        "colab": {
          "base_uri": "https://localhost:8080/"
        },
        "id": "NcnO5zWwtrQI",
        "outputId": "2c003226-3220-4ea3-9ea1-55801e05eca5"
      },
      "outputs": [
        {
          "data": {
            "text/plain": [
              "False"
            ]
          },
          "execution_count": 41,
          "metadata": {},
          "output_type": "execute_result"
        }
      ],
      "source": [
        "# Test if all characters in the string are digits\n",
        "# Hint: .isdigit()\n",
        "\n",
        "str_method.isdigit()"
      ]
    },
    {
      "cell_type": "code",
      "execution_count": null,
      "metadata": {
        "colab": {
          "base_uri": "https://localhost:8080/"
        },
        "id": "uQ8O3UDCkgsK",
        "outputId": "1817ef02-7817-419a-a3d4-47228fdbb491"
      },
      "outputs": [
        {
          "data": {
            "text/plain": [
              "True"
            ]
          },
          "execution_count": 44,
          "metadata": {},
          "output_type": "execute_result"
        }
      ],
      "source": [
        "\"123@\".isdigit()"
      ]
    },
    {
      "cell_type": "code",
      "execution_count": null,
      "metadata": {
        "colab": {
          "base_uri": "https://localhost:8080/",
          "height": 36
        },
        "id": "4biZcfxft67B",
        "outputId": "f0ee2349-526e-4d6a-b18a-51bfd6972eb8"
      },
      "outputs": [
        {
          "data": {
            "application/vnd.google.colaboratory.intrinsic+json": {
              "type": "string"
            },
            "text/plain": [
              "'I am practicing String MEthod!!'"
            ]
          },
          "execution_count": 46,
          "metadata": {},
          "output_type": "execute_result"
        }
      ],
      "source": [
        "# remove starting white space\n",
        "# Hint: .strip()\n",
        "\n",
        "str_method.strip()"
      ]
    },
    {
      "cell_type": "code",
      "execution_count": null,
      "metadata": {
        "colab": {
          "base_uri": "https://localhost:8080/",
          "height": 36
        },
        "id": "Zy2RNepdk08P",
        "outputId": "06d53874-2b10-446b-81e0-2c29f2fdab21"
      },
      "outputs": [
        {
          "data": {
            "application/vnd.google.colaboratory.intrinsic+json": {
              "type": "string"
            },
            "text/plain": [
              "'just a !! demo '"
            ]
          },
          "execution_count": 48,
          "metadata": {},
          "output_type": "execute_result"
        }
      ],
      "source": [
        "str_method = \"just a !! demo !!\"\n",
        "str_method.strip(\"!!\")"
      ]
    },
    {
      "cell_type": "markdown",
      "metadata": {
        "id": "j0NWWDPBupxm"
      },
      "source": [
        "**7. String Formatting**  \n",
        "- String formatting is the process of inserting  a custom string or variable in predefined text.\n",
        "\n",
        "```\n",
        "Q. Input name and age of user, and print message \"Hello <user_name>. Your age is <user_age>.\"\n",
        "\n",
        "Example:\n",
        "    - user_name = xyz\n",
        "    - user_age = 20\n",
        "    - Output: Hello xyz. Your age is 20.\n",
        "```"
      ]
    },
    {
      "cell_type": "code",
      "execution_count": null,
      "metadata": {
        "colab": {
          "base_uri": "https://localhost:8080/"
        },
        "id": "M3V3vFfluiSI",
        "outputId": "131f8870-7a62-4bf1-fa5d-d05411024ac7"
      },
      "outputs": [
        {
          "name": "stdout",
          "output_type": "stream",
          "text": [
            "enter user name: xyz\n",
            "enter your age: 10\n"
          ]
        }
      ],
      "source": [
        "# get input from user\n",
        "\n",
        "user_name = input(\"enter user name: \")\n",
        "user_age = int(input(\"enter your age: \"))"
      ]
    },
    {
      "cell_type": "code",
      "execution_count": null,
      "metadata": {
        "colab": {
          "base_uri": "https://localhost:8080/"
        },
        "id": "_7Jq3_rRl93U",
        "outputId": "bff25e82-60f9-44c5-c1a7-e0d44a3bd07a"
      },
      "outputs": [
        {
          "name": "stdout",
          "output_type": "stream",
          "text": [
            "xyz\n",
            "10\n"
          ]
        }
      ],
      "source": [
        "print(user_name)\n",
        "print(user_age)"
      ]
    },
    {
      "cell_type": "code",
      "execution_count": null,
      "metadata": {
        "colab": {
          "base_uri": "https://localhost:8080/",
          "height": 36
        },
        "id": "p3FJCv3YciDg",
        "outputId": "2a094b7c-3fbf-4c60-c627-6e19e37ce5d2"
      },
      "outputs": [
        {
          "data": {
            "application/vnd.google.colaboratory.intrinsic+json": {
              "type": "string"
            },
            "text/plain": [
              "'Hello xyz.your age is 10'"
            ]
          },
          "execution_count": 54,
          "metadata": {},
          "output_type": "execute_result"
        }
      ],
      "source": [
        "# Display message using String Concatenation (+) operators\n",
        "\n",
        "\"Hello\" + \" \" + user_name + \".\" + \"your age is \" + str(user_age)"
      ]
    },
    {
      "cell_type": "markdown",
      "metadata": {
        "id": "D4eYeBHQdtp9"
      },
      "source": [
        "`format():`\n",
        "  - we can combine string and number using format() method.\n",
        "\n",
        "```\n",
        "Example:\n",
        "  Given, age = 20\n",
        "  to_display: Your age is 20\n",
        "\n",
        "  code:\n",
        "    Approach1: \"Your age is {}\".format(age), or   \n",
        "    Approach2: \"Your age is {0}\".format(age)\n",
        "```"
      ]
    },
    {
      "cell_type": "code",
      "execution_count": null,
      "metadata": {
        "colab": {
          "base_uri": "https://localhost:8080/",
          "height": 36
        },
        "id": "Jc8-6Fnfc-th",
        "outputId": "9208f73e-4b91-4e1a-fe42-902fa3747d02"
      },
      "outputs": [
        {
          "data": {
            "application/vnd.google.colaboratory.intrinsic+json": {
              "type": "string"
            },
            "text/plain": [
              "'Hi xyz. Your age is 10'"
            ]
          },
          "execution_count": 56,
          "metadata": {},
          "output_type": "execute_result"
        }
      ],
      "source": [
        "# Display message using format() method\n",
        "# use Approach 1\n",
        "\n",
        "\"Hi  {}. Your age is {}\".format(user_name, user_age)"
      ]
    },
    {
      "cell_type": "code",
      "execution_count": null,
      "metadata": {
        "id": "njnLKOE_exFP"
      },
      "outputs": [],
      "source": [
        "# Display message using format() method\n",
        "# use Approach 2\n"
      ]
    },
    {
      "cell_type": "markdown",
      "metadata": {
        "id": "qfGWtuucfv0K"
      },
      "source": [
        "`Formatted String or f-Strings`\n",
        "- A formatted String is a String that is prefixed with `f` or `F`.\n",
        "- `f-strings` are the recommended way to format strings, if you are using Python 3.6 or above.\n",
        "```\n",
        "Example:\n",
        "  Given, age = 20\n",
        "  to_display: Your age is 20\n",
        "\n",
        "  code:\n",
        "    f-string appraoch: f\"Your age is {age}\"\n",
        "```"
      ]
    },
    {
      "cell_type": "code",
      "execution_count": null,
      "metadata": {
        "colab": {
          "base_uri": "https://localhost:8080/",
          "height": 36
        },
        "id": "gUuGLf9Rfgii",
        "outputId": "c2513c2e-cbc9-47c0-bc6d-2ea43bd2fde9"
      },
      "outputs": [
        {
          "data": {
            "application/vnd.google.colaboratory.intrinsic+json": {
              "type": "string"
            },
            "text/plain": [
              "'Hi xyz. Your age is 10'"
            ]
          },
          "execution_count": 57,
          "metadata": {},
          "output_type": "execute_result"
        }
      ],
      "source": [
        "# Display message using f-string\n",
        "#\n",
        "# to_dispay: input user name and age, and\n",
        "# print \"Hi <user_name>. Your age is <user_age>\"\n",
        "\n",
        "f\"Hi {user_name}. Your age is {user_age}\""
      ]
    },
    {
      "cell_type": "markdown",
      "metadata": {
        "id": "zf_lUWj6qH_h"
      },
      "source": [
        "**8. Escape Characters:**\n",
        "- An escape character is a backslash `\\` followed by the characters you want to insert.\n",
        "- Use escape characters, to insert characters that are illegal in string.\n",
        "\n",
        "- `Different Escape Characters are:`\n",
        "  - Single Quote:     \\\\'\n",
        "  - Double Quote:     \\\\\"\n",
        "  - Backslash:        \\\\\\\n",
        "  - New Line:         \\n\t   \n",
        "  - Tab:              \\t   \n",
        "\n",
        "`Q. How to insert single quotation character in a string created using single quotation? `\n"
      ]
    },
    {
      "cell_type": "code",
      "execution_count": null,
      "metadata": {
        "colab": {
          "base_uri": "https://localhost:8080/"
        },
        "id": "vULu9tVTqHoX",
        "outputId": "7cfd2e2e-1151-4106-a4da-0277af477edd"
      },
      "outputs": [
        {
          "name": "stdout",
          "output_type": "stream",
          "text": [
            "Hi I'm anish. \\ I am learning python\n"
          ]
        }
      ],
      "source": [
        "# write your program here\n",
        "\n",
        "sample_str = \"Hi I'm anish. \\\\ I am learning python\"\n",
        "print(sample_str)"
      ]
    },
    {
      "cell_type": "code",
      "execution_count": null,
      "metadata": {
        "id": "jb_mCEF33j7_"
      },
      "outputs": [],
      "source": [
        "# Experiment with Backslash Escape character\n",
        "\n"
      ]
    },
    {
      "cell_type": "code",
      "execution_count": null,
      "metadata": {
        "id": "rMdE8YAhmZVq"
      },
      "outputs": [],
      "source": [
        "# Experiment with newline escape character\n",
        "# \\n\n"
      ]
    },
    {
      "cell_type": "code",
      "execution_count": null,
      "metadata": {
        "id": "Liptvr8q38PE"
      },
      "outputs": [],
      "source": [
        "# experiment with tab escape character\n",
        "# \\t\n"
      ]
    },
    {
      "cell_type": "markdown",
      "metadata": {
        "id": "ylMy1seG4Nmk"
      },
      "source": [
        "**9. String Loop**\n",
        "- It is possible to loop through characters present in the string.\n",
        "\n",
        "- `Loop:`\n",
        "  - Loop is used for iterating over a sequence.\n",
        "  - string is sequence of characters we can loop through string.\n",
        "  - Python provides `for` keyword for loop (also called for loop).\n",
        "\n",
        "\n",
        "Let's find length of string and print each characters in String using loop.\n"
      ]
    },
    {
      "cell_type": "markdown",
      "metadata": {
        "id": "I_fTH2Xa7qGY"
      },
      "source": [
        "`i). find length of string:`  \n",
        "\n",
        "Hint: use len() function\n",
        "\n",
        "\n",
        "\n"
      ]
    },
    {
      "cell_type": "code",
      "execution_count": null,
      "metadata": {
        "colab": {
          "base_uri": "https://localhost:8080/"
        },
        "id": "qn6B5hB_4AC0",
        "outputId": "1be0966c-031a-4bdc-9fc4-279cbb467a3a"
      },
      "outputs": [
        {
          "data": {
            "text/plain": [
              "13"
            ]
          },
          "execution_count": 1,
          "metadata": {},
          "output_type": "execute_result"
        }
      ],
      "source": [
        "# define string\n",
        "# find string length\n",
        "#\n",
        "# Hint: len(str)\n",
        "sample_str = \"Hello World!!\"\n",
        "\n",
        "len(sample_str)"
      ]
    },
    {
      "cell_type": "code",
      "execution_count": null,
      "metadata": {
        "colab": {
          "base_uri": "https://localhost:8080/"
        },
        "id": "y3PShsj8jxgn",
        "outputId": "d8b91a7b-6427-4041-ea22-2bd8d032e4ea"
      },
      "outputs": [
        {
          "data": {
            "text/plain": [
              "[0, 1, 2, 3, 4, 5, 6, 7, 8, 9, 10, 11, 12]"
            ]
          },
          "execution_count": 12,
          "metadata": {},
          "output_type": "execute_result"
        }
      ],
      "source": [
        "list(range(len(sample_str)))\n",
        "for idx in range(len(sample_str)):\n",
        "  print(idx)"
      ]
    },
    {
      "cell_type": "code",
      "execution_count": null,
      "metadata": {
        "colab": {
          "base_uri": "https://localhost:8080/",
          "height": 36
        },
        "id": "YRthkkfIkvQM",
        "outputId": "e971f4e8-26c4-426d-e0b1-d1034000d08a"
      },
      "outputs": [
        {
          "data": {
            "application/vnd.google.colaboratory.intrinsic+json": {
              "type": "string"
            },
            "text/plain": [
              "'H'"
            ]
          },
          "execution_count": 16,
          "metadata": {},
          "output_type": "execute_result"
        }
      ],
      "source": [
        "idx = 0\n",
        "sample_str[idx]"
      ]
    },
    {
      "cell_type": "code",
      "execution_count": null,
      "metadata": {
        "colab": {
          "base_uri": "https://localhost:8080/"
        },
        "id": "x9_FrSdKla7r",
        "outputId": "db6378b7-059b-47c5-a415-bdb79bb5b79e"
      },
      "outputs": [
        {
          "data": {
            "text/plain": [
              "[0, 1, 2, 3, 4, 5, 6, 7, 8, 9, 10, 11, 12]"
            ]
          },
          "execution_count": 17,
          "metadata": {},
          "output_type": "execute_result"
        }
      ],
      "source": [
        "list(range(0, 13, 1))"
      ]
    },
    {
      "cell_type": "code",
      "execution_count": null,
      "metadata": {
        "colab": {
          "base_uri": "https://localhost:8080/"
        },
        "id": "wRz6XTuokD4c",
        "outputId": "68ac0280-40e1-4d88-f0b6-937edbe3cff6"
      },
      "outputs": [],
      "source": [
        "for idx in range(len(sample_str)):\n",
        "  print(idx)\n",
        "  print(sample_str[idx])\n",
        "  print(\"--------------\")"
      ]
    },
    {
      "cell_type": "markdown",
      "metadata": {
        "id": "ykUhrPey8Tcn"
      },
      "source": [
        "`ii). Loop through a String`\n",
        "\n"
      ]
    },
    {
      "cell_type": "code",
      "execution_count": null,
      "metadata": {
        "colab": {
          "base_uri": "https://localhost:8080/"
        },
        "id": "s5rdofv48DmP",
        "outputId": "8321c69c-272f-406b-e87e-9b544e5ecafa"
      },
      "outputs": [],
      "source": [
        "# define string\n",
        "# loop through string\n",
        "\n",
        "for char in sample_str:\n",
        "  print(char)\n",
        "  print(type(char))\n",
        "  print('-----------')"
      ]
    },
    {
      "cell_type": "markdown",
      "metadata": {
        "id": "eEsWN987iMSA"
      },
      "source": [
        "`loop using range() function`\n",
        "\n",
        "- range(start, end, step)"
      ]
    },
    {
      "cell_type": "code",
      "execution_count": null,
      "metadata": {
        "colab": {
          "base_uri": "https://localhost:8080/"
        },
        "id": "W1DNBjlDPzJz",
        "outputId": "b333b93d-c6d1-44e0-9a30-7547d3d7e3f4"
      },
      "outputs": [
        {
          "data": {
            "text/plain": [
              "[0, 1, 2, 3, 4, 5, 6, 7, 8, 9]"
            ]
          },
          "execution_count": 7,
          "metadata": {},
          "output_type": "execute_result"
        }
      ],
      "source": [
        "list(range(10))"
      ]
    },
    {
      "cell_type": "code",
      "execution_count": null,
      "metadata": {
        "colab": {
          "base_uri": "https://localhost:8080/"
        },
        "id": "t4GJnEvrjG9C",
        "outputId": "a055d7ac-9d82-49c8-91ec-3d2be85794ea"
      },
      "outputs": [
        {
          "data": {
            "text/plain": [
              "[1, 2, 3, 4, 5, 6, 7, 8, 9]"
            ]
          },
          "execution_count": 9,
          "metadata": {},
          "output_type": "execute_result"
        }
      ],
      "source": [
        "list(range(1, 10, 1))"
      ]
    },
    {
      "cell_type": "code",
      "execution_count": null,
      "metadata": {
        "colab": {
          "base_uri": "https://localhost:8080/"
        },
        "id": "J58EF7R8jMMo",
        "outputId": "e70e92bd-4514-4a21-d385-fde5d75bf2d3"
      },
      "outputs": [
        {
          "data": {
            "text/plain": [
              "[0, 2, 4, 6, 8]"
            ]
          },
          "execution_count": 11,
          "metadata": {},
          "output_type": "execute_result"
        }
      ],
      "source": [
        "list(range(0, 10, 2))"
      ]
    },
    {
      "cell_type": "markdown",
      "metadata": {
        "id": "y2ezp952N--4"
      },
      "source": [
        "**10. String Exercise**\n",
        "\n",
        "`Q.1 Use the len method to print the length of string.`\n",
        "\n",
        "`Q.2 Print length of String without using len function.`\n",
        "\n",
        "`Q.3 Write python program to print vowel and consonants on the given string.`\n",
        "\n",
        "`Q.4 Write a python program to extract first and last 2 character into new string.`\n",
        " - example:\n",
        "  - input_string = \"my name is xyz\"\n",
        "  - output_string = \"myyz\"\n",
        "\n",
        "`Q.5 Write a python program to get a single string from two given strings, separated by a space and swap the first two characters of each string.`\n",
        "\n",
        "  - example:\n",
        "    - first_string = \"first\"\n",
        "    - second_string = \"second\"\n",
        "    - output_string = \"serst ficond\"\n",
        "  \n",
        "`Q.6 Write a python program to remove the nth index character from a nonempty string. Ask user to input non-empty string, and index`\n",
        "\n",
        "  - example:\n",
        "    - non_empty_str = \"hello world\"\n",
        "    - index_to_remove = 3\n",
        "\n",
        "    - output_str = \"helo world\""
      ]
    },
    {
      "cell_type": "code",
      "execution_count": null,
      "metadata": {
        "id": "mFGU3p6VRIHo"
      },
      "outputs": [],
      "source": [
        "'''\n",
        "`Q.1 Use the len method to print the length of string.`'''\n",
        "str_len = \"Hello world!\"\n",
        "print(len(str_len))\n"
      ]
    },
    {
      "cell_type": "code",
      "execution_count": null,
      "metadata": {},
      "outputs": [],
      "source": [
        "'''`Q.2 Print length of String without using len function.`'''\n",
        "str_len = \"Hello world!\"\n",
        "count = 0\n",
        "for i in str_len:\n",
        "  count+=1\n",
        "  print(count)"
      ]
    },
    {
      "cell_type": "code",
      "execution_count": null,
      "metadata": {},
      "outputs": [],
      "source": [
        "'''`Q.3 Write python program to print vowel and consonants on the given string.`'''\n",
        "user_str = input(\"Enter the string a-z: \")\n",
        "vowel = [\"a\",\"e\",\"i\",\"o\",\"u\"]\n",
        "for i in user_str:\n",
        "   if i.lower() in vowel:\n",
        "     print(user_str,\"is vowel string\")\n",
        "   else:\n",
        "    print(user_str,\"is the consonant String\")\n",
        "\n"
      ]
    },
    {
      "cell_type": "code",
      "execution_count": null,
      "metadata": {},
      "outputs": [],
      "source": [
        "'''`Q.4 Write a python program to extract first and last 2 character into new string.`\n",
        " - example:\n",
        "  - input_string = \"my name is xyz\"\n",
        "  - output_string = \"myyz\"'''\n",
        "input_str = \"my name is xyz\"\n",
        "ex_first = input_str[:2]\n",
        "ex_last = input_str[-1:-3:-1]\n",
        "print(ex_first + ex_last)\n"
      ]
    },
    {
      "cell_type": "code",
      "execution_count": null,
      "metadata": {},
      "outputs": [],
      "source": [
        "'''`Q.5 Write a python program to get a single string from two given strings, separated by a space and swap the first two characters of each string.`\n",
        "\n",
        "  - example:\n",
        "    - first_string = \"first\"\n",
        "    - second_string = \"second\"\n",
        "    - output_string = \"serst ficond\"'''\n",
        "first_str = \"first\"\n",
        "second_str = \"second\"\n",
        "\n",
        "print(second_str[:2]+first_str[2:])\n",
        "print(first_str[:2]+second_str[2:])\n",
        "\n"
      ]
    },
    {
      "cell_type": "code",
      "execution_count": null,
      "metadata": {},
      "outputs": [],
      "source": [
        "'''`Q.6 Write a python program to remove the nth index character from a nonempty string. Ask user to input non-empty string, and index`\n",
        "\n",
        "  - example:\n",
        "    - non_empty_str = \"hello worl'''\n",
        "    \n",
        "user_string = input(\"Enter the String: \")\n",
        "user_index = int(input(\"Enter the index of the char to remove: \"))\n",
        "output_str = \" \"\n",
        "\n",
        "if user_index < len(user_string):\n",
        "     for i, char in enumerate(user_string): #this enumerate() iterate over the user_string with index\n",
        "      #  print(user_string)\n",
        "        if i == user_index:\n",
        "           continue\n",
        "        output_str += char\n",
        "     print(output_str)\n",
        "else:\n",
        "    print(\"Out of range\")\n"
      ]
    }
  ],
  "metadata": {
    "colab": {
      "provenance": []
    },
    "kernelspec": {
      "display_name": "Python 3",
      "name": "python3"
    },
    "language_info": {
      "name": "python",
      "version": "3.11.4"
    }
  },
  "nbformat": 4,
  "nbformat_minor": 0
}
