{
  "cells": [
    {
      "cell_type": "markdown",
      "metadata": {
        "id": "yH4SbBIMXRYh"
      },
      "source": [
        "# Python Functions\n",
        "- A function is a reusable block of code which only runs when it is called.\n",
        "- You can pass data, known as parameters, into a function.\n",
        "- A function can return data as result.\n",
        "- Function allow us to not have to repeatedly write the same code again and again.\n",
        "\n",
        "- **When to use functions?**\n",
        "  - Use functions when you plan on using a block of code multiple times.\n",
        "\n",
        "- **Types:**\n",
        "  - Pre-defined functions\n",
        "  - User defined functions\n",
        "\n",
        "- In this lecture we'll cover:\n",
        "  - `Anatomy of function`\n",
        "  - `Create function without parameters and without return statement`\n",
        "  - `Create function with parameters and without return statement`\n",
        "  - `Create function without parameters and with return statement`\n",
        "  - `Create function with parameters and with return statement`\n",
        "  - `local variable vs global variable`\n",
        "  - `Arbitrary Positional Arguments, *args`\n",
        "  - `Keyword Arguments`\n",
        "  - `Arbitrary Keyword Arguments, **kwargs`\n",
        "  - `Default Parameter Value`\n",
        "  - `pass keyword`\n",
        "  - `Recall Pre-defined functions`\n",
        "  - `Recursion`\n"
      ]
    },
    {
      "cell_type": "markdown",
      "metadata": {
        "id": "Y3rAZbRrvVD_"
      },
      "source": [
        "## 1. **Anatomy of function**\n",
        "---\n",
        "- `def` keyword is used for creating a uder-defined function in python.\n",
        "width=\"400\">\n",
        "\n",
        "\n",
        "- function begins with `def` keyword followed by function `name` and parenthesis `()`\n",
        "- Function has body that starts with colon (`:`) and is indented.\n",
        "- You can add documentation in a function also called as `doc string`\n",
        "- The keyword `return` exits the function (and is optional to have)\n",
        "\n",
        "\n",
        "```\n",
        "\n",
        "def func_name(parameters):\n",
        "  \"\"\"\n",
        "  documenation goes here\n",
        "  \"\"\"\n",
        "\n",
        "  ## your code logic goes here\n",
        "  ## return statement goes here\n",
        "```\n",
        "\n"
      ]
    },
    {
      "cell_type": "markdown",
      "metadata": {
        "id": "CQ5kRx1U1S19"
      },
      "source": [
        "## 2. **Create a function without parameters and without return statement.**\n",
        "- Function without return statement are called Void function.\n",
        "---\n",
        "\n",
        "- **Syntax:**\n",
        "\n",
        "```\n",
        "def function_name():\n",
        "  \"\"\"\n",
        "  doc string goes here (optional)\n",
        "  \"\"\"\n",
        "  # code logic goes\n",
        "```\n",
        "\n",
        "_**Q. Write a python function that takes two integer input from user and print greater number.**_ _(no parameter, no return)_\n",
        "\n",
        "`Hint: a if a > b else a`\n",
        "\n",
        "---\n",
        "\n"
      ]
    },
    {
      "cell_type": "code",
      "execution_count": null,
      "metadata": {
        "id": "avA9Sys0gPaW"
      },
      "outputs": [],
      "source": [
        "# Function Definition\n",
        "\n",
        "def print_greater():\n",
        "  num1 = int(input(\"enter number1: \"))\n",
        "  num2 = int(input(\"enter number2: \"))\n",
        "\n",
        "  if num1>num2:\n",
        "    print(\"num1 is greater\")\n",
        "\n",
        "  else:\n",
        "    print(\"num2 is greater\")\n"
      ]
    },
    {
      "cell_type": "code",
      "execution_count": null,
      "metadata": {
        "colab": {
          "base_uri": "https://localhost:8080/"
        },
        "id": "fQJBf_UagPXd",
        "outputId": "b41fd462-7b6d-4feb-c5d9-c5921f9946cd"
      },
      "outputs": [
        {
          "name": "stdout",
          "output_type": "stream",
          "text": [
            "enter number1: 2\n",
            "enter number2: 3\n",
            "num2 is greater\n",
            "Returned Value: None\n"
          ]
        }
      ],
      "source": [
        "# call function\n",
        "val = print_greater()\n",
        "\n",
        "print(f\"Returned Value: {val}\")"
      ]
    },
    {
      "cell_type": "code",
      "execution_count": null,
      "metadata": {
        "id": "xr59YmkeXOY-"
      },
      "outputs": [],
      "source": [
        "## your program goes here\n",
        "# function creation part\n",
        "def print_greater():\n",
        "  \"\"\"\n",
        "  display greater between two integer\n",
        "  \"\"\"\n",
        "  num1 = int(input('enter number 1: '))\n",
        "  num2 = int(input('enter number 2: '))\n",
        "\n",
        "  if num1 > num2:\n",
        "    print('I am from function, num1 is greater')\n",
        "\n",
        "  elif num1 == num2:\n",
        "    print('I am from function, num1 equals num2')\n",
        "\n",
        "  else:\n",
        "    print('I am from function, num2 is lesser')"
      ]
    },
    {
      "cell_type": "code",
      "execution_count": null,
      "metadata": {
        "colab": {
          "base_uri": "https://localhost:8080/"
        },
        "id": "V2Y_Z9Qe4YmS",
        "outputId": "803a0fdf-8925-4d42-a758-bd472704e9b1"
      },
      "outputs": [
        {
          "name": "stdout",
          "output_type": "stream",
          "text": [
            "enter number 1: 2\n",
            "enter number 2: 2\n",
            "I am from function, num1 equals num2\n",
            "Returned value:  None\n"
          ]
        }
      ],
      "source": [
        "# call your function from here\n",
        "a = print_greater()\n",
        "print(\"Returned value: \", a)"
      ]
    },
    {
      "cell_type": "markdown",
      "metadata": {
        "id": "XDXpG2EGTttb"
      },
      "source": [
        "## 3. **Create function with parameters and without return statement**\n",
        "---\n",
        "```\n",
        "def function_name(parameter):\n",
        "  \"\"\"\n",
        "  doc string goes here (optional)\n",
        "  \"\"\"\n",
        "  # code logic goes\n",
        "```\n",
        "\n",
        "_**Q. Write a python function that takes two integer input from user pass them as argument to function and print greater number.**_ _(no return)_\n",
        "\n",
        "`Hint: a if a > b else b`\n",
        "\n",
        "---"
      ]
    },
    {
      "cell_type": "code",
      "execution_count": null,
      "metadata": {
        "id": "k1tiRhX9i9os"
      },
      "outputs": [],
      "source": [
        "# Function definition\n",
        "def print_greater(num1, num2):\n",
        "  \"\"\"\n",
        "  function that prints greater between two numbers.\n",
        "\n",
        "  Parameters: num1 (int), num2(int)\n",
        "  \"\"\"\n",
        "\n",
        "  if num1>num2:\n",
        "    print(\"num1 is greater\")\n",
        "\n",
        "  else:\n",
        "    print(\"num2 is greater\")\n"
      ]
    },
    {
      "cell_type": "code",
      "execution_count": null,
      "metadata": {
        "colab": {
          "base_uri": "https://localhost:8080/"
        },
        "id": "uwUefWG1i9HO",
        "outputId": "aaa3a51c-94c9-4395-8961-de0bce1750d4"
      },
      "outputs": [
        {
          "name": "stdout",
          "output_type": "stream",
          "text": [
            "num2 is greater\n",
            "None\n"
          ]
        }
      ],
      "source": [
        "num1 = 2\n",
        "num2 = 3\n",
        "\n",
        "return_val = print_greater(num1, num2)\n",
        "\n",
        "print(return_val)"
      ]
    },
    {
      "cell_type": "code",
      "execution_count": null,
      "metadata": {
        "colab": {
          "base_uri": "https://localhost:8080/"
        },
        "id": "Z6pzxFqy2SIa",
        "outputId": "c823700b-6093-4a4a-c878-8dd6e4ec2ba8"
      },
      "outputs": [
        {
          "name": "stdout",
          "output_type": "stream",
          "text": [
            "enter num1: 1\n",
            "enter num2: 2\n",
            "I am from function, num2 is lesser\n"
          ]
        }
      ],
      "source": [
        "## write your program here\n",
        "\n",
        "def test_greater(a, b):\n",
        "\n",
        "  if a > b:\n",
        "    print('I am from function, num1 is greater')\n",
        "\n",
        "  elif a == b:\n",
        "    print('I am from function, num1 equals num2')\n",
        "\n",
        "  else:\n",
        "    print('I am from function, num2 is greater')\n",
        "\n",
        "num1 = int(input('enter num1: '))\n",
        "num2 = int(input('enter num2: '))\n",
        "\n",
        "test_greater(num1, num2)"
      ]
    },
    {
      "cell_type": "code",
      "execution_count": null,
      "metadata": {
        "colab": {
          "base_uri": "https://localhost:8080/"
        },
        "id": "i-of-N2xuXXJ",
        "outputId": "03b1579e-001e-4db0-a540-073c1309ee2b"
      },
      "outputs": [
        {
          "name": "stdout",
          "output_type": "stream",
          "text": [
            "I am from function, num1 is greater\n",
            "None\n"
          ]
        }
      ],
      "source": [
        "return_msg = test_greater(2, 1)\n",
        "print(return_msg)"
      ]
    },
    {
      "cell_type": "markdown",
      "metadata": {
        "id": "sdOCBTwFUO4i"
      },
      "source": [
        "##4. **Create function without parameters and with return statement**\n",
        "- Functions with return statement are called `Fruitful function`.\n",
        "---\n",
        "\n",
        "```\n",
        "def function_name():\n",
        "  \"\"\"\n",
        "  doc string goes here (optional)\n",
        "  \"\"\"\n",
        "  # code logic goes\n",
        "\n",
        "  # return <item>\n",
        "```\n",
        "\n",
        "_**Q. Write a python function that takes two integer input from user inside function and return greater number from function.**_ _(no parameter)_\n",
        "`Hint: a if a > b else b`\n",
        "\n",
        "---"
      ]
    },
    {
      "cell_type": "code",
      "execution_count": null,
      "metadata": {
        "id": "xsgPqFqFlUL1"
      },
      "outputs": [],
      "source": [
        "def print_greater():\n",
        "  \"\"\"\n",
        "  \"\"\"\n",
        "  num1 = int(input(\"enter number1: \"))\n",
        "  num2 = int(input(\"enter number2: \"))\n",
        "\n",
        "  if num1 > num2:\n",
        "    return \"num1 is greater\"\n",
        "\n",
        "  else:\n",
        "    return \"num2 is greater\""
      ]
    },
    {
      "cell_type": "code",
      "execution_count": null,
      "metadata": {
        "colab": {
          "base_uri": "https://localhost:8080/"
        },
        "id": "F-VSj_gJlUI9",
        "outputId": "619c337d-bfb4-467c-82cd-600049834e42"
      },
      "outputs": [
        {
          "name": "stdout",
          "output_type": "stream",
          "text": [
            "enter number1: 2\n",
            "enter number2: 3\n",
            "num2 is greater\n"
          ]
        }
      ],
      "source": [
        "return_val = print_greater()\n",
        "\n",
        "print(return_val)"
      ]
    },
    {
      "cell_type": "code",
      "execution_count": null,
      "metadata": {
        "colab": {
          "base_uri": "https://localhost:8080/",
          "height": 72
        },
        "id": "h7O-2GGEnUou",
        "outputId": "3ab8c36d-78d6-44a7-b833-4493904d1854"
      },
      "outputs": [
        {
          "name": "stdout",
          "output_type": "stream",
          "text": [
            "enter number1: 2\n",
            "enter number2: 3\n"
          ]
        },
        {
          "data": {
            "application/vnd.google.colaboratory.intrinsic+json": {
              "type": "string"
            },
            "text/plain": [
              "'num2 is greaternum2 is greater'"
            ]
          },
          "execution_count": 14,
          "metadata": {},
          "output_type": "execute_result"
        }
      ],
      "source": [
        "2 * print_greater()"
      ]
    },
    {
      "cell_type": "code",
      "execution_count": null,
      "metadata": {
        "colab": {
          "base_uri": "https://localhost:8080/"
        },
        "id": "OV1kW3enlTij",
        "outputId": "f9c87c24-5bf0-458e-b502-ff1af241bcd9"
      },
      "outputs": [
        {
          "name": "stdout",
          "output_type": "stream",
          "text": [
            "enter number1: 2\n",
            "enter number2: 3\n",
            "num2 is greater\n"
          ]
        }
      ],
      "source": [
        "print(print_greater())"
      ]
    },
    {
      "cell_type": "code",
      "execution_count": null,
      "metadata": {
        "colab": {
          "base_uri": "https://localhost:8080/"
        },
        "id": "gD-2KEPUUN-V",
        "outputId": "21a275b8-faf9-4cbd-c1ab-60ef8b007de0"
      },
      "outputs": [
        {
          "name": "stdout",
          "output_type": "stream",
          "text": [
            "enter num1: 1\n",
            "enter num2: 2\n",
            "num2 is greater\n"
          ]
        }
      ],
      "source": [
        "## write your program here\n",
        "def return_greater_num():\n",
        "  num1 = int(input('enter num1: '))\n",
        "  num2 = int(input('enter num2: '))\n",
        "\n",
        "  if num1 > num2:\n",
        "    msg = 'num1 is greater'\n",
        "\n",
        "  elif num1 == num2:\n",
        "    msg = 'num1 equals num2'\n",
        "\n",
        "  else:\n",
        "    msg = 'num2 is greater'\n",
        "\n",
        "  return msg\n",
        "\n",
        "\n",
        "msg = return_greater_num()\n",
        "print(msg)"
      ]
    },
    {
      "cell_type": "markdown",
      "metadata": {
        "id": "Wd_MZD78VISd"
      },
      "source": [
        "## 5. **Create function with parameters and with return statement**\n",
        "---"
      ]
    },
    {
      "cell_type": "markdown",
      "metadata": {
        "id": "fv67Y532VQK1"
      },
      "source": [
        "```\n",
        "def function_name(parameter):\n",
        "  \"\"\"\n",
        "  doc string goes here (optional)\n",
        "  \"\"\"\n",
        "  # code logic goes\n",
        "\n",
        "  # return <item>\n",
        "```\n"
      ]
    },
    {
      "cell_type": "markdown",
      "metadata": {
        "id": "q4aDDyKHVVt9"
      },
      "source": [
        "_**Q. Write a python function that takes two integer as a argument and return greater number from function.**_\n",
        "\n",
        "`Hint: a if a > b else b`\n",
        "\n",
        "---\n",
        "\n"
      ]
    },
    {
      "cell_type": "code",
      "execution_count": null,
      "metadata": {
        "id": "4FgW_KVjnz-m"
      },
      "outputs": [],
      "source": [
        "def print_greater(num1, num2):\n",
        "  if num1>num2:\n",
        "    return \"num1 is greater\"\n",
        "  else:\n",
        "    return \"num2 is greater\""
      ]
    },
    {
      "cell_type": "code",
      "execution_count": null,
      "metadata": {
        "colab": {
          "base_uri": "https://localhost:8080/"
        },
        "id": "igC9L59dnz4k",
        "outputId": "24088aed-33ea-4d35-d1a6-e63fc931e2fe"
      },
      "outputs": [
        {
          "name": "stdout",
          "output_type": "stream",
          "text": [
            "num2 is greater\n"
          ]
        }
      ],
      "source": [
        "a = 2\n",
        "b = 3\n",
        "\n",
        "result = print_greater(b, a)\n",
        "\n",
        "print(result)"
      ]
    },
    {
      "cell_type": "code",
      "execution_count": null,
      "metadata": {
        "colab": {
          "base_uri": "https://localhost:8080/"
        },
        "id": "03kG3G8mVF-E",
        "outputId": "2a268766-bb2c-49a6-81b6-59a61d431fc5"
      },
      "outputs": [
        {
          "name": "stdout",
          "output_type": "stream",
          "text": [
            "(30, 11, 12, 13, 14)\n",
            "None\n"
          ]
        }
      ],
      "source": [
        "## write your program here\n",
        "def return_greater(b, c, *args):\n",
        "  print(args)\n",
        "  # if num1 > num2:\n",
        "  #   msg = 'num1 is greater'\n",
        "\n",
        "  # elif num1 == num2:\n",
        "  #   msg = 'num1 equals num2'\n",
        "\n",
        "  # else:\n",
        "  #   msg = 'num2 is greater'\n",
        "\n",
        "  # return msg\n",
        "\n",
        "a = 2\n",
        "b = 3\n",
        "c = 30\n",
        "\n",
        "msg = return_greater(a, b, c, 11, 12, 13, 14)\n",
        "print(msg)"
      ]
    },
    {
      "cell_type": "markdown",
      "metadata": {
        "id": "vg6w265iWlJe"
      },
      "source": [
        "##6. **Local Variable vs Global Variable**\n",
        "\n",
        "---\n",
        "\n",
        "\n",
        "\n",
        "  |                      | Local Variables                           | Global Variables                            |\n",
        "|----------------------|-------------------------------------------|---------------------------------------------|\n",
        "| Scope                | Limited to the function or block           | Accessible from any part of the program      |\n",
        "| Declaration          | Defined within a function or block         | Defined outside any function or block        |\n",
        "\n",
        "\n"
      ]
    },
    {
      "cell_type": "markdown",
      "metadata": {
        "id": "e_UBIYfzcNU5"
      },
      "source": [
        "`6.1. Local Variables `"
      ]
    },
    {
      "cell_type": "code",
      "execution_count": null,
      "metadata": {
        "colab": {
          "base_uri": "https://localhost:8080/"
        },
        "id": "X1U-mlNSrNQc",
        "outputId": "6674f43d-3fb0-4c3e-9a8a-c09ce5c9ca74"
      },
      "outputs": [
        {
          "name": "stdout",
          "output_type": "stream",
          "text": [
            "10\n"
          ]
        }
      ],
      "source": [
        "def my_func():\n",
        "  x = 10\n",
        "  print(x)\n",
        "\n",
        "\n",
        "my_func()"
      ]
    },
    {
      "cell_type": "code",
      "execution_count": null,
      "metadata": {
        "colab": {
          "base_uri": "https://localhost:8080/"
        },
        "id": "gj6F733UbfSU",
        "outputId": "10bf92ef-991e-4f2a-e065-9e9a6ae2d008"
      },
      "outputs": [
        {
          "name": "stdout",
          "output_type": "stream",
          "text": [
            "Inside function 10\n",
            "Outside function 10\n"
          ]
        }
      ],
      "source": [
        "## write your program here\n",
        "\n",
        "def my_function():\n",
        "    global x\n",
        "    x = 10  # local variable\n",
        "    print(\"Inside function\", x)\n",
        "\n",
        "my_function()  # Output: 10\n",
        "print(\"Outside function\", x)      # Error: NameError: name 'x' is not defined"
      ]
    },
    {
      "cell_type": "markdown",
      "metadata": {
        "id": "-exmiOw1cYz6"
      },
      "source": [
        "`6.2 Global Variables`"
      ]
    },
    {
      "cell_type": "code",
      "execution_count": null,
      "metadata": {
        "colab": {
          "base_uri": "https://localhost:8080/"
        },
        "id": "OgNlBkE2cclZ",
        "outputId": "75770d11-78a7-48f7-b051-95895b69b90f"
      },
      "outputs": [
        {
          "name": "stdout",
          "output_type": "stream",
          "text": [
            "I am from function:  15\n",
            "I am from outside of function:  15\n"
          ]
        }
      ],
      "source": [
        "## write your program here\n",
        "\n",
        "x = 10  # global variable\n",
        "\n",
        "def my_function():\n",
        "    global x # global keyword to update global variable\n",
        "    x = x + 5\n",
        "\n",
        "    print(\"I am from function: \", x)\n",
        "\n",
        "my_function()  # Output: 15\n",
        "\n",
        "print(\"I am from outside of function: \", x)      # Output: 15"
      ]
    },
    {
      "cell_type": "markdown",
      "metadata": {
        "id": "RuzMKfxDc7jf"
      },
      "source": [
        "_`It's generally considered good practice to limit the use of global variables and use local variables instead`_"
      ]
    },
    {
      "cell_type": "markdown",
      "metadata": {
        "id": "ai030JSihrwN"
      },
      "source": [
        "##8. **Arbitrary Positional Arguments, *args**\n",
        "- Positional arguments are passed to a function based on their position or order in the function call.\n",
        "\n",
        "- The arguments we passed to a function till now are all positional arguments.\n",
        "\n",
        "- The `*args` syntax allows a function to accept any number of positional arguments.\n",
        "\n",
        "- The variable type of `args` will be of Tuple.\n",
        "\n",
        "```python\n",
        "\n",
        "def my_function(*args):\n",
        "    for arg in args:\n",
        "        print(arg)\n",
        "\n",
        "my_function(1, 2, 3)        # Output: 1 2 3\n",
        "my_function('Hello', 'Hi')  # Output: Hello Hi\n",
        "\n",
        "```\n",
        "\n",
        "**`Q. Write a python function that return multiplication of all the numbers passed by user as a argument.`**\n",
        "\n",
        "_`Note: User can pass unlimited numbers to a function at the time of function call`_"
      ]
    },
    {
      "cell_type": "code",
      "execution_count": null,
      "metadata": {
        "colab": {
          "base_uri": "https://localhost:8080/"
        },
        "id": "suN3WpPvx15D",
        "outputId": "03bff030-096c-4788-a270-b09480ca0f1d"
      },
      "outputs": [
        {
          "name": "stdout",
          "output_type": "stream",
          "text": [
            "[2, 3, 4]\n"
          ]
        }
      ],
      "source": [
        "# unpack values\n",
        "# a, *b, c = (1, 2, 3, 4, 5, 6, 7, 8, 9, 10, 11, 12)\n",
        "# print(b)"
      ]
    },
    {
      "cell_type": "code",
      "execution_count": null,
      "metadata": {
        "id": "PnmQf7fCp6rM"
      },
      "outputs": [],
      "source": [
        "tuple_items = (1, 2, 3, 4, 5, 6, 7, 8, 9, 10, 11, 12)\n",
        "\n",
        "mult = 1\n",
        "\n",
        "for item in tuple_items:\n",
        "  mult = mult * item"
      ]
    },
    {
      "cell_type": "code",
      "execution_count": null,
      "metadata": {
        "id": "SP_0zZO3qTfQ"
      },
      "outputs": [],
      "source": [
        "def dynamic_multiplication(*args):\n",
        "  mult = 1\n",
        "\n",
        "  for item in args:\n",
        "    mult = mult * item\n",
        "\n",
        "  return mult"
      ]
    },
    {
      "cell_type": "code",
      "execution_count": null,
      "metadata": {
        "colab": {
          "base_uri": "https://localhost:8080/"
        },
        "id": "JzRfMFWPpC_o",
        "outputId": "b30a9262-25b3-43d7-af4d-b93e48a5482a"
      },
      "outputs": [
        {
          "name": "stdout",
          "output_type": "stream",
          "text": [
            "24\n"
          ]
        }
      ],
      "source": [
        "# num *= item\n",
        "\n",
        "result = dynamic_multiplication(1, 1, 2, 3, 4)\n",
        "print(result)"
      ]
    },
    {
      "cell_type": "code",
      "execution_count": null,
      "metadata": {
        "colab": {
          "base_uri": "https://localhost:8080/"
        },
        "id": "j202qS2cwk9f",
        "outputId": "b8ba3a0a-ba7b-4cb9-8165-dc2e9df8f9f9"
      },
      "outputs": [
        {
          "name": "stdout",
          "output_type": "stream",
          "text": [
            "(3, 4, 5, 6, 7, 8, 9, 10, 11, 12, 13)\n",
            "<class 'tuple'>\n"
          ]
        }
      ],
      "source": [
        "# explain concept\n",
        "# list = []\n",
        "def func(b, c, *args):\n",
        "  print(a)\n",
        "  print(type(a))\n",
        "\n",
        "func(1, 2, 3, 4, 5, 6, 7, 8, 9, 10, 11, 12, 13)"
      ]
    },
    {
      "cell_type": "code",
      "execution_count": null,
      "metadata": {
        "colab": {
          "base_uri": "https://localhost:8080/"
        },
        "id": "SpCd6AHv_XKh",
        "outputId": "b6d97e9c-097b-44f5-8b7a-c2e208761795"
      },
      "outputs": [
        {
          "name": "stdout",
          "output_type": "stream",
          "text": [
            "720\n"
          ]
        }
      ],
      "source": [
        "## write your program here\n",
        "\n",
        "def multiply(*args):\n",
        "\n",
        "  mult = 1\n",
        "  for item in args:\n",
        "    mult = item * mult\n",
        "\n",
        "  return mult\n",
        "\n",
        "\n",
        "mult = multiply(1, 2, 3, 4, 5, 6)\n",
        "print(mult)"
      ]
    },
    {
      "cell_type": "markdown",
      "metadata": {
        "id": "7h0YPEXqCvNF"
      },
      "source": [
        "## 9. **Keyword Arguments**\n",
        "- Keyword arguments in Python allow you to pass arguments to a function using their corresponding parameter names.\n",
        "\n",
        "-  Instead of relying on the order of the arguments, you specify the argument name along with its value when calling the function.\n",
        "\n",
        "- **Key Benefit**\n",
        "  - `Clarity: `\n",
        "    - makes function call more readable and self-explnatory.\n",
        "\n",
        "  - `Order Independence: `\n",
        "    - all you to provide the values in any order you prefer, as long as the parameter names are correctly matched.\n",
        "\n"
      ]
    },
    {
      "cell_type": "code",
      "execution_count": null,
      "metadata": {
        "colab": {
          "base_uri": "https://localhost:8080/"
        },
        "id": "7zqo0FJgB6sU",
        "outputId": "a77ba242-9776-4ad5-fb78-0e7b1edee37a"
      },
      "outputs": [
        {
          "name": "stdout",
          "output_type": "stream",
          "text": [
            "Hi John. Your age is 30\n",
            "Hi John. Your age is 30\n"
          ]
        }
      ],
      "source": [
        "## write your program here\n",
        "def greet(name, age):\n",
        "  \"\"\"\n",
        "  Function that greets to person.\n",
        "  \"\"\"\n",
        "  print(f\"Hi {name}. Your age is {age}\")\n",
        "\n",
        "\n",
        "greet(name='John', age=30) # ouput: Hi John. Your age is 30\n",
        "\n",
        "greet(age=30, name='John') # output: Hi Bob. Your age is 10"
      ]
    },
    {
      "cell_type": "code",
      "execution_count": null,
      "metadata": {
        "id": "rfY-kvjfrIZl"
      },
      "outputs": [],
      "source": [
        "def keyword_args(name, age, **kwargs):\n",
        "  print(kwargs)\n",
        "\n",
        "  print(f\"name: {name}\")\n",
        "  print(f\"age: {age}\")"
      ]
    },
    {
      "cell_type": "code",
      "execution_count": null,
      "metadata": {
        "colab": {
          "base_uri": "https://localhost:8080/"
        },
        "id": "NiEJi1GqrIMu",
        "outputId": "92d7fbca-55ba-4aff-e7a5-41f284bb941c"
      },
      "outputs": [
        {
          "name": "stdout",
          "output_type": "stream",
          "text": [
            "{'class_': 'a', 'test': 'test'}\n",
            "name: 10\n",
            "age: xyz\n"
          ]
        }
      ],
      "source": [
        "name = \"xyz\"\n",
        "age = 10\n",
        "\n",
        "keyword_args(name=age, age=name, class_='a', test=\"test\")"
      ]
    },
    {
      "cell_type": "code",
      "execution_count": null,
      "metadata": {
        "colab": {
          "base_uri": "https://localhost:8080/"
        },
        "id": "cgx_fLYCsbO2",
        "outputId": "32be2a61-c149-4265-d04c-0992042095c5"
      },
      "outputs": [
        {
          "name": "stdout",
          "output_type": "stream",
          "text": [
            "\n",
            "Here is a list of the Python keywords.  Enter any keyword to get more help.\n",
            "\n",
            "False               class               from                or\n",
            "None                continue            global              pass\n",
            "True                def                 if                  raise\n",
            "and                 del                 import              return\n",
            "as                  elif                in                  try\n",
            "assert              else                is                  while\n",
            "async               except              lambda              with\n",
            "await               finally             nonlocal            yield\n",
            "break               for                 not                 \n",
            "\n"
          ]
        }
      ],
      "source": [
        "help('keywords')"
      ]
    },
    {
      "cell_type": "markdown",
      "metadata": {
        "id": "26iVLVJ3E-Bt"
      },
      "source": [
        "##10. **Arbitrary Keyword Arguments, **kwargs**\n",
        "- If you do not know how many keyword arguments that will be passed into your function, add two asterik: `**`.\n",
        "\n",
        "- This way, the function will receive a dictionary of arguments, and can access items accordingly.\n"
      ]
    },
    {
      "cell_type": "code",
      "execution_count": null,
      "metadata": {
        "colab": {
          "base_uri": "https://localhost:8080/"
        },
        "id": "yJyyjoTgE7VA",
        "outputId": "3304f1a9-32e5-4b91-a1bb-90cedca7a382"
      },
      "outputs": [
        {
          "name": "stdout",
          "output_type": "stream",
          "text": [
            "name: John\n",
            "age: 30\n",
            "class_: 12\n"
          ]
        }
      ],
      "source": [
        "## write your program here\n",
        "\n",
        "kwargs = {\n",
        "    'name': 'John',\n",
        "    'age': 30\n",
        "}\n",
        "\n",
        "def my_function(**kwargs):\n",
        "    for key, value in kwargs.items():\n",
        "        print(f\"{key}: {value}\")\n",
        "\n",
        "my_function(name='John', age=30, class_ = 12)\n",
        "\n",
        "# my_function(age=10, name='Bob')"
      ]
    },
    {
      "cell_type": "markdown",
      "metadata": {
        "id": "dwGZV8H1IHGO"
      },
      "source": [
        "##11. **Default Parameter Value**\n",
        "\n",
        "**`What if you do not want to pass arguments at the time of function call but function is expecting some parameters?`**\n",
        "\n",
        "\n",
        "_**`Ans:`** You can use concept of Default parameter value.`_\n",
        "\n",
        "\n"
      ]
    },
    {
      "cell_type": "code",
      "execution_count": null,
      "metadata": {
        "colab": {
          "base_uri": "https://localhost:8080/"
        },
        "id": "L0LKOmYtuQjw",
        "outputId": "ce9031c4-9d27-4bad-c9c1-533a016413ab"
      },
      "outputs": [
        {
          "name": "stdout",
          "output_type": "stream",
          "text": [
            "World\n"
          ]
        }
      ],
      "source": [
        "def test(a=\"Hello\"):\n",
        "  print(a)\n",
        "\n",
        "test(\"World\")"
      ]
    },
    {
      "cell_type": "code",
      "execution_count": null,
      "metadata": {
        "colab": {
          "base_uri": "https://localhost:8080/"
        },
        "id": "ZXqN9Jq-H1n1",
        "outputId": "a4f205f2-9cbf-4562-fa41-5048dd6c4e89"
      },
      "outputs": [
        {
          "name": "stdout",
          "output_type": "stream",
          "text": [
            "How are you!!\n",
            "What is your name?\n",
            "None\n"
          ]
        }
      ],
      "source": [
        "# write your program here\n",
        "\n",
        "def print_message(msg = None):\n",
        "  print(msg)\n",
        "\n",
        "print_message('How are you!!') # output: How are you!!\n",
        "print_message(msg='What is your name?') # output: What is your name?\n",
        "print_message() # output: hello_world"
      ]
    },
    {
      "cell_type": "markdown",
      "metadata": {
        "id": "q7OLotqnMeNX"
      },
      "source": [
        "## 12. **Pass Keyword**\n",
        "- `functions` definition cannot be empty.\n",
        "\n",
        "- `Q. What if you only want to define a function and write code logic later?`\n",
        "\n",
        "- In such scenario we can use `pass` keyword, which simply acts as a placeholder for code logic to be added later.\n",
        "\n",
        "```python\n",
        "def function1():\n",
        "  pass\n",
        "\n",
        "def function2():\n",
        "  pass\n",
        "\n",
        "def function3():\n",
        "  pass\n",
        "```"
      ]
    },
    {
      "cell_type": "markdown",
      "metadata": {
        "id": "Nm1Af2m4XMbf"
      },
      "source": [
        "\n",
        "Now, we know user defined functions, How functions are created, Let's Revisit some pre-defined functions.\n",
        "\n",
        "\n"
      ]
    },
    {
      "cell_type": "markdown",
      "metadata": {
        "id": "M7JdDelyNsjO"
      },
      "source": [
        "##13. **Recall Pre-defined functions**\n",
        "\n",
        "- Pre-defined functions, also know as built-in functions, are functions that are included in the Python programming language by default.\n",
        "\n",
        "| Function       | Description                                                                   |\n",
        "|----------------|-------------------------------------------------------------------------------|\n",
        "| `print()`      | Outputs messages or values to the console.                                    |\n",
        "| `len()`        | Returns the length of a sequence (e.g., string, list, tuple).                  |\n",
        "| `type()`       | Returns the type of an object.                                                 |\n",
        "| `input()`      | Reads user input from the console.                                             |\n",
        "| `range()`      | Generates a sequence of numbers within a specified range.                      |\n",
        "| `sum()`        | Calculates the sum of all the values in an iterable.                           |\n",
        "| `max()`        | Returns the maximum value in an iterable.                                      |\n",
        "| `min()`        | Returns the minimum value in an iterable.                                      |\n",
        "| `abs()`        | Returns the absolute value of a number.                                        |\n",
        "| `round()`      | Rounds a number to a specified number of decimal places.                        |\n",
        "| `str()`        | Converts an object to a string representation.                                 |\n",
        "| `int()`        | Converts a string or a number to an integer.                                   |\n",
        "| `float()`      | Converts a string or a number to a floating-point number.                       |\n",
        "| `list()`       | Converts an iterable to a list.                                                |\n",
        "| `dict()`       | Creates a new dictionary object.                                               |\n",
        "| `sorted()`     | Returns a new sorted list from the items in an iterable.                        |\n",
        "| `zip()`        | Creates an iterator that aggregates elements from multiple iterables.           |\n",
        "| `enumerate()`  | Returns an iterator of tuples containing indices and values from an iterable.  |\n",
        "| `help()`       | Displays information and documentation about Python objects and modules.        |\n",
        "| `dir()`        | Returns a list of names in the current local scope or a given object.           |\n"
      ]
    },
    {
      "cell_type": "markdown",
      "metadata": {
        "id": "OnjNnUVpbd2e"
      },
      "source": [
        "### 13.1 **Math Module**\n",
        "- The `math` module in Python provides a set of mathematical functions and constants for various mathematical operations.\n",
        "\n",
        "-  It is part of the Python Standard Library, so no additional\n",
        "\n",
        "- However you need to import math module, to access functions and constants.\n",
        "\n",
        "| Function              | Description                                                        |\n",
        "|-----------------------|--------------------------------------------------------------------|\n",
        "| `math.ceil(x)`        | Returns the smallest integer greater than or equal to x.            |\n",
        "| `math.floor(x)`       | Returns the largest integer less than or equal to x.                |\n",
        "| `math.sqrt(x)`        | Returns the square root of x.                                       |\n",
        "| `math.pow(x, y)`      | Returns x raised to the power of y.                                 |\n",
        "| `math.exp(x)`         | Returns e raised to the power of x.                                 |\n",
        "| `math.log(x)`         | Returns the natural logarithm (base e) of x.                        |\n",
        "| `math.log10(x)`       | Returns the base-10 logarithm of x.                                 |\n",
        "| `math.sin(x)`         | Returns the sine of x (in radians).                                 |\n",
        "| `math.cos(x)`         | Returns the cosine of x (in radians).                               |\n",
        "| `math.tan(x)`         | Returns the tangent of x (in radians).                              |\n",
        "| `math.radians(x)`     | Converts x from degrees to radians.                                 |\n",
        "| `math.degrees(x)`     | Converts x from radians to degrees.                                 |\n",
        "| `math.pi`             | Represents the mathematical constant π (pi).                        |\n",
        "| `math.e`              | Represents the mathematical constant e (Euler's number).            |\n",
        "| `math.factorial(x)`   | Returns the factorial of x.                                         |\n",
        "| `math.fabs(x)`        | Returns the absolute value of x.                                    |\n"
      ]
    },
    {
      "cell_type": "code",
      "execution_count": null,
      "metadata": {
        "colab": {
          "base_uri": "https://localhost:8080/"
        },
        "id": "89DHe8F0zw8d",
        "outputId": "7f2945f9-6aad-47d5-cbc7-6e03a3f4b1d5"
      },
      "outputs": [
        {
          "data": {
            "text/plain": [
              "3.141592653589793"
            ]
          },
          "execution_count": 49,
          "metadata": {},
          "output_type": "execute_result"
        }
      ],
      "source": [
        "import math\n",
        "\n",
        "math.pi"
      ]
    },
    {
      "cell_type": "code",
      "execution_count": null,
      "metadata": {
        "colab": {
          "base_uri": "https://localhost:8080/"
        },
        "id": "eRC_vJXdzwxf",
        "outputId": "0d32d3fb-8624-49ae-c9c4-fbb9041636fe"
      },
      "outputs": [
        {
          "data": {
            "text/plain": [
              "120"
            ]
          },
          "execution_count": 50,
          "metadata": {},
          "output_type": "execute_result"
        }
      ],
      "source": [
        "\n",
        "math.factorial(5)"
      ]
    },
    {
      "cell_type": "code",
      "execution_count": null,
      "metadata": {
        "colab": {
          "base_uri": "https://localhost:8080/"
        },
        "id": "ho5AJt1f0ak4",
        "outputId": "6d44ec1e-178c-4cd7-8b7a-3deaeb32ecf2"
      },
      "outputs": [
        {
          "data": {
            "text/plain": [
              "8.0"
            ]
          },
          "execution_count": 51,
          "metadata": {},
          "output_type": "execute_result"
        }
      ],
      "source": [
        "# def pow(2, 3):\n",
        "#   return 2**3\n",
        "\n",
        "math.pow(2, 3)"
      ]
    },
    {
      "cell_type": "code",
      "execution_count": null,
      "metadata": {
        "colab": {
          "base_uri": "https://localhost:8080/"
        },
        "id": "k8ff_sotY65K",
        "outputId": "04eee9fd-4e65-488a-ffe4-588783008942"
      },
      "outputs": [
        {
          "data": {
            "text/plain": [
              "2.0"
            ]
          },
          "execution_count": 27,
          "metadata": {},
          "output_type": "execute_result"
        }
      ],
      "source": [
        "# import module\n",
        "import math\n",
        "\n",
        "4.5//2"
      ]
    },
    {
      "cell_type": "code",
      "execution_count": null,
      "metadata": {
        "id": "TspnkBLb_PIp"
      },
      "outputs": [],
      "source": [
        "from math import *"
      ]
    },
    {
      "cell_type": "code",
      "execution_count": null,
      "metadata": {
        "colab": {
          "base_uri": "https://localhost:8080/"
        },
        "id": "ORkWQm97_TZn",
        "outputId": "1de8a91a-a5b2-469e-951f-eb5dfc6c172c"
      },
      "outputs": [
        {
          "data": {
            "text/plain": [
              "3"
            ]
          },
          "execution_count": 34,
          "metadata": {},
          "output_type": "execute_result"
        }
      ],
      "source": [
        "ceil(2.5)"
      ]
    },
    {
      "cell_type": "code",
      "execution_count": null,
      "metadata": {
        "colab": {
          "base_uri": "https://localhost:8080/",
          "height": 172
        },
        "id": "KSlrWli2_U4G",
        "outputId": "7f9b2259-ac30-425f-92dc-54dc8b114d23"
      },
      "outputs": [],
      "source": [
        "floor(2.5)"
      ]
    },
    {
      "cell_type": "code",
      "execution_count": null,
      "metadata": {
        "colab": {
          "base_uri": "https://localhost:8080/"
        },
        "id": "W2tjeRoicUsU",
        "outputId": "55b47ff1-1a1d-4eae-e270-59e2e560bcb1"
      },
      "outputs": [
        {
          "data": {
            "text/plain": [
              "2"
            ]
          },
          "execution_count": 28,
          "metadata": {},
          "output_type": "execute_result"
        }
      ],
      "source": [
        "# floor and ceil\n",
        "math.floor(2.5)"
      ]
    },
    {
      "cell_type": "code",
      "execution_count": null,
      "metadata": {
        "colab": {
          "base_uri": "https://localhost:8080/"
        },
        "id": "bSkyWFpb--gB",
        "outputId": "c95492ea-9383-4716-dbfe-76c81312ff66"
      },
      "outputs": [
        {
          "data": {
            "text/plain": [
              "3"
            ]
          },
          "execution_count": 29,
          "metadata": {},
          "output_type": "execute_result"
        }
      ],
      "source": [
        "math.ceil(2.5)"
      ]
    },
    {
      "cell_type": "code",
      "execution_count": null,
      "metadata": {
        "colab": {
          "base_uri": "https://localhost:8080/"
        },
        "id": "fb1RgmqvcYA2",
        "outputId": "5f1fe68c-fad2-49b2-a047-06e01f363405"
      },
      "outputs": [
        {
          "data": {
            "text/plain": [
              "24"
            ]
          },
          "execution_count": 30,
          "metadata": {},
          "output_type": "execute_result"
        }
      ],
      "source": [
        "# factorial of number\n",
        "math.factorial(4)"
      ]
    },
    {
      "cell_type": "markdown",
      "metadata": {
        "id": "9s2SGHykksbL"
      },
      "source": [
        "# **Recursion**\n",
        "- Recursion is process, where a function calls itself.\n",
        "- Recursion has a base logic to exit from Recursive function.\n",
        "\n",
        "- **Syntax:**\n",
        "\n",
        "```python\n",
        "def fun():\n",
        "  print(\"Hello I am Recursion\")\n",
        "  fun()\n",
        "\n",
        "```\n",
        "\n"
      ]
    },
    {
      "cell_type": "markdown",
      "metadata": {
        "id": "T61psz99OLg0"
      },
      "source": [
        "_**`Q.Write a python program to compute factorial of number using recursion.`**_"
      ]
    },
    {
      "cell_type": "markdown",
      "metadata": {
        "id": "CTjv9mwwj8KW"
      },
      "source": [
        "- **Numerical Demonstration**\n",
        "```python\n",
        "factorial(7) = 7*6*5*4*3*2*1\n",
        "factorial(6) = 6*5*4*3*2*1\n",
        "factorial(5) = 5*4*3*2*1\n",
        "factorial(4) = 4*3*2*1\n",
        "::::::::::::\n",
        "factorial(0) = 1\n",
        "factorial(n) = n * factorial(n-1)\n",
        "```\n"
      ]
    },
    {
      "cell_type": "markdown",
      "metadata": {
        "id": "xzhjEP4yNv5V"
      },
      "source": [
        "- **Pictorial explanation**\n",
        "\n",
        "<img src='https://drive.google.com/uc?id=13QsRsn9kaIM9lvCjnjnxERuUf9qw_V82' width='450'>\n",
        "\n",
        "\n"
      ]
    },
    {
      "cell_type": "code",
      "execution_count": null,
      "metadata": {
        "id": "ijpM5xrJy3j4"
      },
      "outputs": [],
      "source": [
        "3 * 2 * 1"
      ]
    },
    {
      "cell_type": "code",
      "execution_count": null,
      "metadata": {
        "colab": {
          "base_uri": "https://localhost:8080/"
        },
        "id": "JYmvXKVjyK9_",
        "outputId": "3ccf4477-137e-4a6e-c06b-d475961f93cb"
      },
      "outputs": [
        {
          "name": "stdout",
          "output_type": "stream",
          "text": [
            "2\n",
            "6\n",
            "24\n",
            "120\n",
            "720\n"
          ]
        }
      ],
      "source": [
        "def factorial(n):\n",
        "\n",
        "  if n == 1 or n == 0:\n",
        "    return 1\n",
        "\n",
        "  else:\n",
        "    return n * factorial(n-1) # 2 * 1\n",
        "\n",
        "print(factorial(2))\n",
        "print(factorial(3))\n",
        "print(factorial(4))\n",
        "print(factorial(5))\n",
        "print(factorial(6))"
      ]
    },
    {
      "cell_type": "code",
      "execution_count": null,
      "metadata": {
        "colab": {
          "base_uri": "https://localhost:8080/"
        },
        "id": "-Nxyi4JDkgrE",
        "outputId": "41118b2a-0f45-49ff-d01e-5cb45fac69d1"
      },
      "outputs": [
        {
          "name": "stdout",
          "output_type": "stream",
          "text": [
            "6\n",
            "24\n",
            "120\n"
          ]
        }
      ],
      "source": [
        "# write your program\n",
        "\n",
        "def factorial(n):\n",
        "  # recursion base case\n",
        "  if (n==0 or n==1):\n",
        "    return 1\n",
        "\n",
        "  else:\n",
        "    return n * factorial(n-1) # calling same function, called Recursion\n",
        "\n",
        "print(factorial(3))\n",
        "print(factorial(4))\n",
        "print(factorial(5))"
      ]
    },
    {
      "cell_type": "markdown",
      "metadata": {
        "id": "obeytJJIekPI"
      },
      "source": [
        "## **Assignments**\n",
        "\n",
        "**`Q.1 Write a python function to multiply all the numbers in a list`**\n",
        "\n",
        "**`Q.3 Write a python function to find factorial of a given non negativenumber`**\n",
        "\n",
        "**`Q.4 Write a python function to reverse a string`**\n",
        "\n",
        "**`Q.5 Write a python function that accepts a string and calculate the number of upper case letters and lower case letters`**\n",
        "\n",
        "**`Q.6 Write a python function that takes a list and returns a new list with unique elements of the first list`**\n",
        "\n",
        "**`Q.7 Write a Python function that takes a number as a parameter and check the\n",
        "number is prime or not.`**\n",
        "\n",
        "**`Q.8 Write a python function to print the even numbers from a given list.`**\n"
      ]
    },
    {
      "cell_type": "code",
      "execution_count": null,
      "metadata": {
        "id": "C7pxvCnkej2c"
      },
      "outputs": [],
      "source": [
        "'''\n",
        "**`Q.1 Write a python function to multiply all the numbers in a list`**\n",
        "'''\n",
        "def multiply(n):\n",
        "  mul = 1\n",
        "  for item in list1:\n",
        "    mul*=item\n",
        "  print(f\"The multiply of all the number in a list {mul}\")\n",
        "list1 = [2,3,4,5]\n",
        "multiply(list1)   "
      ]
    },
    {
      "cell_type": "code",
      "execution_count": null,
      "metadata": {},
      "outputs": [],
      "source": [
        "'''**`Q.2 Write a python function to find factorial of a given non negativenumber`**\n",
        "'''\n",
        "def fact(n):\n",
        "  f = 1\n",
        "  for i in range(1,n+1):\n",
        "      f *=i\n",
        "  print(f\"The factorial of {n} is: {f}\")\n",
        "\n",
        "user_input = int(input(\"enter the positive number:\"))  \n",
        "\n",
        "fact(user_input)"
      ]
    },
    {
      "cell_type": "code",
      "execution_count": null,
      "metadata": {},
      "outputs": [],
      "source": [
        "'''**`Q.3 Write a python function to reverse a string`**'''\n",
        "def rev_str(string):\n",
        "    return string[::-1]\n",
        "rev = rev_str(\"Hello World!\")\n",
        "print(rev)"
      ]
    },
    {
      "cell_type": "code",
      "execution_count": null,
      "metadata": {},
      "outputs": [],
      "source": [
        "'''**`Q.4 Write a python function that accepts a string and calculate the number\n",
        " of upper case letters and lower case letters`**'''\n",
        "def calc_letter_case(string):\n",
        "   upper_letter = 0\n",
        "   lower_letter = 0\n",
        "   for char in string:\n",
        "    if char.isupper():\n",
        "      upper_letter+=1\n",
        "    elif char.islower():\n",
        "      lower_letter += 1\n",
        "   print(f\"Number of upper_letter:{upper_letter}\\nNumber of lower_letter:{lower_letter}\")\n",
        "\n",
        "user_str = input(\"Enter the string:\")\n",
        "calc_letter_case(user_str)\n"
      ]
    },
    {
      "cell_type": "code",
      "execution_count": null,
      "metadata": {},
      "outputs": [],
      "source": [
        "'''**`Q.5 Write a python function that takes a list and returns a new list with\n",
        " unique elements of the first list`**'''\n",
        " def unique_list():\n",
        "  list1 = [1,1,2,3,5,6,7,3,\"hello\",6]\n",
        "  new_list = list(set(list1))\n",
        "  print(f\"the new list is : {new_list}\") \n",
        "unique_list()"
      ]
    },
    {
      "cell_type": "code",
      "execution_count": null,
      "metadata": {
        "id": "olnlpt3sfANs"
      },
      "outputs": [],
      "source": [
        "\"\"\"\n",
        "Write a Python function that takes a number as a parameter and check the\n",
        "number is prime or not.\n",
        "\"\"\"\n",
        "\n",
        "def check_prime(number):\n",
        "    flag=True\n",
        "    for i in range(2, (number//2)+1):\n",
        "        if(number%i==0):\n",
        "            flag=False\n",
        "    if flag==True:\n",
        "        return \"prime\"\n",
        "    else:\n",
        "        return \"not prime\"\n",
        "number = int(input(\"enter number you want check whether it is prime or not.\"))\n",
        "print(check_prime(number))"
      ]
    },
    {
      "cell_type": "code",
      "execution_count": null,
      "metadata": {
        "id": "XkeWWtnJf7vg"
      },
      "outputs": [],
      "source": [
        "\"\"\"\n",
        "Write a python program to print the even numbers from a given list\n",
        "\"\"\"\n",
        "\n",
        "def return_even_number_list(sample_list):\n",
        "    even_list = [item for item in sample_list if item%2==0]\n",
        "    return even_list\n",
        "sample_list = [1, 2, 3, 4, 5, 6]\n",
        "print(return_even_number_list(sample_list))"
      ]
    }
  ],
  "metadata": {
    "colab": {
      "provenance": []
    },
    "kernelspec": {
      "display_name": "Python 3",
      "name": "python3"
    },
    "language_info": {
      "name": "python"
    }
  },
  "nbformat": 4,
  "nbformat_minor": 0
}
